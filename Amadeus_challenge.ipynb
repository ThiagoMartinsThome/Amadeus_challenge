{
 "cells": [
  {
   "cell_type": "markdown",
   "metadata": {},
   "source": [
    "# Amadeus Challenge"
   ]
  },
  {
   "cell_type": "markdown",
   "metadata": {},
   "source": [
    "The files can be downloaded from the follow link:\n",
    "\n",
    "\n",
    "https://drive.google.com/open?id=1xUhskUGlRqpNucNCtI8wsQRMDVb0jJ4l"
   ]
  },
  {
   "cell_type": "markdown",
   "metadata": {},
   "source": [
    "## Exercises:"
   ]
  },
  {
   "cell_type": "markdown",
   "metadata": {},
   "source": [
    "### 1. Count the number of lines in Python for each file\n"
   ]
  },
  {
   "cell_type": "markdown",
   "metadata": {},
   "source": [
    "To find out how many lines have each file we will use the bash command: \"wc -l\"\n",
    "\n",
    "    The wc utility displays the number of lines, words, and bytes contained in each input  file.\n",
    "    \n",
    "     -l      The number of lines in each input file is written to the standard output."
   ]
  },
  {
   "cell_type": "code",
   "execution_count": 1,
   "metadata": {},
   "outputs": [],
   "source": [
    "nlines_bookings = ! wc -l bookings.csv.bz2\n",
    "nlines_searches = ! wc -l searches.csv.bz2"
   ]
  },
  {
   "cell_type": "code",
   "execution_count": 2,
   "metadata": {},
   "outputs": [
    {
     "name": "stdout",
     "output_type": "stream",
     "text": [
      "[' 1825297 bookings.csv.bz2'] [' 2148325 searches.csv.bz2']\n"
     ]
    }
   ],
   "source": [
    "print(nlines_bookings, nlines_searches)"
   ]
  },
  {
   "cell_type": "markdown",
   "metadata": {},
   "source": [
    "### 2. Top 10 arrival airports in the world in 2013 (using the bookings file)\n",
    "\n",
    "Arrival airport is the column arr_port. It is the IATA code for the airport.\n",
    "To get the total number of passengers for an airport, you can sum the column pax, grouping by arr_port. Note that there is negative pax. That corresponds to cancelations. So to get the total number of passengers that have actually booked, you should sum including the negatives (that will remove the canceled bookings).\n",
    "Print the top 10 arrival airports in the standard output, including the number of passengers.\n",
    "\n",
    "Bonus point: Get the name of the city or airport corresponding to that airport (programatically, we suggest to have a look at GeoBases in Github)\n",
    "Bonus point: Solve this problem using pandas (instead of any other approach)\n"
   ]
  },
  {
   "cell_type": "code",
   "execution_count": 3,
   "metadata": {},
   "outputs": [],
   "source": [
    "import pandas as pd\n",
    "import numpy as np"
   ]
  },
  {
   "cell_type": "markdown",
   "metadata": {},
   "source": [
    "These are the steps that we'll follow to solve this exercise:\n",
    "\n",
    "1. Get familiar with data\n",
    "2. Select the columns of interest and remove the NaN\n",
    "3. Make an action plan\n",
    "4. Develop the code that works with Big Data\n",
    "5. Bonus Point"
   ]
  },
  {
   "cell_type": "markdown",
   "metadata": {},
   "source": [
    "#### 1. Get familiar with Data"
   ]
  },
  {
   "cell_type": "code",
   "execution_count": 4,
   "metadata": {},
   "outputs": [
    {
     "name": "stdout",
     "output_type": "stream",
     "text": [
      "act_date           ^source^pos_ctry^pos_iata^pos_oid  ^rloc          ^cre_date           ^duration^distance^dep_port^dep_city^dep_ctry^arr_port^arr_city^arr_ctry^lst_port^lst_city^lst_ctry^brd_port^brd_city^brd_ctry^off_port^off_city^off_ctry^mkt_port^mkt_city^mkt_ctry^intl^route          ^carrier^bkg_class^cab_class^brd_time           ^off_time           ^pax^year^month^oid      \r\n",
      "2013-03-05 00:00:00^1A    ^DE      ^a68dd7ae953c8acfb187a1af2dcbe123^1a11ae49fcbf545fd2afc1a24d88d2b7^ea65900e72d71f4626378e2ebd298267^2013-02-22 00:00:00^1708^0^ZRH     ^ZRH     ^CH      ^LHR     ^LON     ^GB      ^ZRH     ^ZRH     ^CH      ^LHR     ^LON     ^GB      ^ZRH     ^ZRH     ^CH      ^LHRZRH  ^LONZRH  ^CHGB    ^1^LHRZRH         ^VI^T        ^Y        ^2013-03-07 08:50:00^2013-03-07 11:33:37^-1^2013^3^NULL     \r\n",
      "\r\n",
      "bzcat: I/O or other error, bailing out.  Possible reason follows.\r\n",
      "bzcat: Broken pipe\r\n",
      "\tInput file = ./bookings.sample.csv.bz2, output file = (stdout)\r\n"
     ]
    }
   ],
   "source": [
    "! bzcat ./bookings.csv.bz2 | head -2"
   ]
  },
  {
   "cell_type": "markdown",
   "metadata": {},
   "source": [
    "Here we can see that we have \"^\" as a delimiter.\n",
    "\n",
    "As we know that our file is too large, we will work with 1.000 lines for the moment."
   ]
  },
  {
   "cell_type": "code",
   "execution_count": 5,
   "metadata": {},
   "outputs": [
    {
     "data": {
      "text/html": [
       "<div>\n",
       "<style scoped>\n",
       "    .dataframe tbody tr th:only-of-type {\n",
       "        vertical-align: middle;\n",
       "    }\n",
       "\n",
       "    .dataframe tbody tr th {\n",
       "        vertical-align: top;\n",
       "    }\n",
       "\n",
       "    .dataframe thead th {\n",
       "        text-align: right;\n",
       "    }\n",
       "</style>\n",
       "<table border=\"1\" class=\"dataframe\">\n",
       "  <thead>\n",
       "    <tr style=\"text-align: right;\">\n",
       "      <th></th>\n",
       "      <th>act_date</th>\n",
       "      <th>source</th>\n",
       "      <th>pos_ctry</th>\n",
       "      <th>pos_iata</th>\n",
       "      <th>pos_oid</th>\n",
       "      <th>rloc</th>\n",
       "      <th>cre_date</th>\n",
       "      <th>duration</th>\n",
       "      <th>distance</th>\n",
       "      <th>dep_port</th>\n",
       "      <th>dep_city</th>\n",
       "      <th>dep_ctry</th>\n",
       "      <th>arr_port</th>\n",
       "      <th>arr_city</th>\n",
       "      <th>arr_ctry</th>\n",
       "      <th>lst_port</th>\n",
       "      <th>lst_city</th>\n",
       "      <th>lst_ctry</th>\n",
       "      <th>brd_port</th>\n",
       "      <th>brd_city</th>\n",
       "      <th>brd_ctry</th>\n",
       "      <th>off_port</th>\n",
       "      <th>off_city</th>\n",
       "      <th>off_ctry</th>\n",
       "      <th>mkt_port</th>\n",
       "      <th>mkt_city</th>\n",
       "      <th>mkt_ctry</th>\n",
       "      <th>intl</th>\n",
       "      <th>route</th>\n",
       "      <th>carrier</th>\n",
       "      <th>bkg_class</th>\n",
       "      <th>cab_class</th>\n",
       "      <th>brd_time</th>\n",
       "      <th>off_time</th>\n",
       "      <th>pax</th>\n",
       "      <th>year</th>\n",
       "      <th>month</th>\n",
       "      <th>oid</th>\n",
       "    </tr>\n",
       "  </thead>\n",
       "  <tbody>\n",
       "    <tr>\n",
       "      <td>1766</td>\n",
       "      <td>2013-03-07 00:00:00</td>\n",
       "      <td>1V</td>\n",
       "      <td>US</td>\n",
       "      <td>b10e64ad572b74d2159ff1f4c0310f58</td>\n",
       "      <td>a4d9ef3912d7c53c452ad7eff1fdb239</td>\n",
       "      <td>5d5ad6d384c2e8ede856774b11766e29</td>\n",
       "      <td>2013-03-07 00:00:00</td>\n",
       "      <td>1625</td>\n",
       "      <td>0</td>\n",
       "      <td>MCO</td>\n",
       "      <td>ORL</td>\n",
       "      <td>US</td>\n",
       "      <td>PIT</td>\n",
       "      <td>PIT</td>\n",
       "      <td>US</td>\n",
       "      <td>MCO</td>\n",
       "      <td>ORL</td>\n",
       "      <td>US</td>\n",
       "      <td>PIT</td>\n",
       "      <td>PIT</td>\n",
       "      <td>US</td>\n",
       "      <td>MCO</td>\n",
       "      <td>ORL</td>\n",
       "      <td>US</td>\n",
       "      <td>MCOPIT</td>\n",
       "      <td>ORLPIT</td>\n",
       "      <td>USUS</td>\n",
       "      <td>0</td>\n",
       "      <td>PITMCO</td>\n",
       "      <td>PV</td>\n",
       "      <td>L</td>\n",
       "      <td>Y</td>\n",
       "      <td>2013-03-20 17:23:00</td>\n",
       "      <td>2013-03-20 19:45:52</td>\n",
       "      <td>1</td>\n",
       "      <td>2013</td>\n",
       "      <td>3</td>\n",
       "      <td>NULL</td>\n",
       "    </tr>\n",
       "    <tr>\n",
       "      <td>8466</td>\n",
       "      <td>2013-03-01 00:00:00</td>\n",
       "      <td>1V</td>\n",
       "      <td>US</td>\n",
       "      <td>72d0a3c7b1b17bf0f74f515ae70c232b</td>\n",
       "      <td>d30d41f75ac741dda13be7c822401fbf</td>\n",
       "      <td>e21e817b530fd7315b0276456e175bad</td>\n",
       "      <td>2013-03-01 00:00:00</td>\n",
       "      <td>4710</td>\n",
       "      <td>0</td>\n",
       "      <td>MSP</td>\n",
       "      <td>MSP</td>\n",
       "      <td>US</td>\n",
       "      <td>IAH</td>\n",
       "      <td>HOU</td>\n",
       "      <td>US</td>\n",
       "      <td>MSP</td>\n",
       "      <td>MSP</td>\n",
       "      <td>US</td>\n",
       "      <td>MSP</td>\n",
       "      <td>MSP</td>\n",
       "      <td>US</td>\n",
       "      <td>IAH</td>\n",
       "      <td>HOU</td>\n",
       "      <td>US</td>\n",
       "      <td>IAHMSP</td>\n",
       "      <td>HOUMSP</td>\n",
       "      <td>USUS</td>\n",
       "      <td>0</td>\n",
       "      <td>MSPIAH</td>\n",
       "      <td>FK</td>\n",
       "      <td>Q</td>\n",
       "      <td>Y</td>\n",
       "      <td>2013-03-19 16:04:00</td>\n",
       "      <td>2013-03-19 18:49:35</td>\n",
       "      <td>1</td>\n",
       "      <td>2013</td>\n",
       "      <td>3</td>\n",
       "      <td>NULL</td>\n",
       "    </tr>\n",
       "    <tr>\n",
       "      <td>1017</td>\n",
       "      <td>2013-03-14 00:00:00</td>\n",
       "      <td>1P</td>\n",
       "      <td>JP</td>\n",
       "      <td>5c5a81dde7dbb775007c44b5e6fbe8d0</td>\n",
       "      <td>00649d2030ad2872fcbd2c8aadc496d2</td>\n",
       "      <td>d9807af16260ee4d298b8898ddb39ae4</td>\n",
       "      <td>2013-02-26 00:00:00</td>\n",
       "      <td>6330</td>\n",
       "      <td>0</td>\n",
       "      <td>KIX</td>\n",
       "      <td>OSA</td>\n",
       "      <td>JP</td>\n",
       "      <td>GUM</td>\n",
       "      <td>GUM</td>\n",
       "      <td>GU</td>\n",
       "      <td>KIX</td>\n",
       "      <td>OSA</td>\n",
       "      <td>JP</td>\n",
       "      <td>GUM</td>\n",
       "      <td>GUM</td>\n",
       "      <td>GU</td>\n",
       "      <td>KIX</td>\n",
       "      <td>OSA</td>\n",
       "      <td>JP</td>\n",
       "      <td>GUMKIX</td>\n",
       "      <td>GUMOSA</td>\n",
       "      <td>GUJP</td>\n",
       "      <td>1</td>\n",
       "      <td>GUMKIX</td>\n",
       "      <td>NV</td>\n",
       "      <td>K</td>\n",
       "      <td>Y</td>\n",
       "      <td>2013-07-29 16:50:00</td>\n",
       "      <td>2013-07-29 19:35:45</td>\n",
       "      <td>-6</td>\n",
       "      <td>2013</td>\n",
       "      <td>3</td>\n",
       "      <td>NULL</td>\n",
       "    </tr>\n",
       "    <tr>\n",
       "      <td>4295</td>\n",
       "      <td>2013-03-04 00:00:00</td>\n",
       "      <td>1A</td>\n",
       "      <td>NZ</td>\n",
       "      <td>c100916078f3f1e0c541b7c78941fdba</td>\n",
       "      <td>2b3014c9c671f94fe90e68b6a1366edd</td>\n",
       "      <td>eeb4ccbffe65f5453be5776b86231c1b</td>\n",
       "      <td>2013-02-24 00:00:00</td>\n",
       "      <td>23791</td>\n",
       "      <td>0</td>\n",
       "      <td>AKL</td>\n",
       "      <td>AKL</td>\n",
       "      <td>NZ</td>\n",
       "      <td>DPS</td>\n",
       "      <td>DPS</td>\n",
       "      <td>ID</td>\n",
       "      <td>AKL</td>\n",
       "      <td>AKL</td>\n",
       "      <td>NZ</td>\n",
       "      <td>DPS</td>\n",
       "      <td>DPS</td>\n",
       "      <td>ID</td>\n",
       "      <td>AKL</td>\n",
       "      <td>AKL</td>\n",
       "      <td>NZ</td>\n",
       "      <td>AKLDPS</td>\n",
       "      <td>AKLDPS</td>\n",
       "      <td>IDNZ</td>\n",
       "      <td>1</td>\n",
       "      <td>DPSKULAKL</td>\n",
       "      <td>WR</td>\n",
       "      <td>Y</td>\n",
       "      <td>Y</td>\n",
       "      <td>2013-05-04 16:05:00</td>\n",
       "      <td>2013-05-05 12:46:58</td>\n",
       "      <td>-2</td>\n",
       "      <td>2013</td>\n",
       "      <td>3</td>\n",
       "      <td>PMRHF3102</td>\n",
       "    </tr>\n",
       "    <tr>\n",
       "      <td>9144</td>\n",
       "      <td>2013-03-22 00:00:00</td>\n",
       "      <td>1P</td>\n",
       "      <td>US</td>\n",
       "      <td>738d56754e3975dbe2f446bc07adeb82</td>\n",
       "      <td>77b824be95c0e44b27dd1dd8e22a7503</td>\n",
       "      <td>17bdabcbea41cbc277b0375f359f7d6d</td>\n",
       "      <td>2013-03-20 00:00:00</td>\n",
       "      <td>19037</td>\n",
       "      <td>0</td>\n",
       "      <td>MKE</td>\n",
       "      <td>MKE</td>\n",
       "      <td>US</td>\n",
       "      <td>JFK</td>\n",
       "      <td>NYC</td>\n",
       "      <td>US</td>\n",
       "      <td>MKE</td>\n",
       "      <td>MKE</td>\n",
       "      <td>US</td>\n",
       "      <td>MKE</td>\n",
       "      <td>MKE</td>\n",
       "      <td>US</td>\n",
       "      <td>JFK</td>\n",
       "      <td>NYC</td>\n",
       "      <td>US</td>\n",
       "      <td>JFKMKE</td>\n",
       "      <td>MKENYC</td>\n",
       "      <td>USUS</td>\n",
       "      <td>0</td>\n",
       "      <td>MKEJFK</td>\n",
       "      <td>NV</td>\n",
       "      <td>V</td>\n",
       "      <td>Y</td>\n",
       "      <td>2013-04-10 12:05:00</td>\n",
       "      <td>2013-04-10 15:17:24</td>\n",
       "      <td>-1</td>\n",
       "      <td>2013</td>\n",
       "      <td>3</td>\n",
       "      <td>NULL</td>\n",
       "    </tr>\n",
       "  </tbody>\n",
       "</table>\n",
       "</div>"
      ],
      "text/plain": [
       "      act_date             source  pos_ctry                          pos_iata  \\\n",
       "1766  2013-03-07 00:00:00  1V      US        b10e64ad572b74d2159ff1f4c0310f58   \n",
       "8466  2013-03-01 00:00:00  1V      US        72d0a3c7b1b17bf0f74f515ae70c232b   \n",
       "1017  2013-03-14 00:00:00  1P      JP        5c5a81dde7dbb775007c44b5e6fbe8d0   \n",
       "4295  2013-03-04 00:00:00  1A      NZ        c100916078f3f1e0c541b7c78941fdba   \n",
       "9144  2013-03-22 00:00:00  1P      US        738d56754e3975dbe2f446bc07adeb82   \n",
       "\n",
       "                             pos_oid                      rloc            \\\n",
       "1766  a4d9ef3912d7c53c452ad7eff1fdb239  5d5ad6d384c2e8ede856774b11766e29   \n",
       "8466  d30d41f75ac741dda13be7c822401fbf  e21e817b530fd7315b0276456e175bad   \n",
       "1017  00649d2030ad2872fcbd2c8aadc496d2  d9807af16260ee4d298b8898ddb39ae4   \n",
       "4295  2b3014c9c671f94fe90e68b6a1366edd  eeb4ccbffe65f5453be5776b86231c1b   \n",
       "9144  77b824be95c0e44b27dd1dd8e22a7503  17bdabcbea41cbc277b0375f359f7d6d   \n",
       "\n",
       "      cre_date             duration  distance  dep_port  dep_city  dep_ctry  \\\n",
       "1766  2013-03-07 00:00:00      1625         0  MCO       ORL       US         \n",
       "8466  2013-03-01 00:00:00      4710         0  MSP       MSP       US         \n",
       "1017  2013-02-26 00:00:00      6330         0  KIX       OSA       JP         \n",
       "4295  2013-02-24 00:00:00     23791         0  AKL       AKL       NZ         \n",
       "9144  2013-03-20 00:00:00     19037         0  MKE       MKE       US         \n",
       "\n",
       "      arr_port  arr_city  arr_ctry  lst_port  lst_city  lst_ctry  brd_port  \\\n",
       "1766  PIT       PIT       US        MCO       ORL       US        PIT        \n",
       "8466  IAH       HOU       US        MSP       MSP       US        MSP        \n",
       "1017  GUM       GUM       GU        KIX       OSA       JP        GUM        \n",
       "4295  DPS       DPS       ID        AKL       AKL       NZ        DPS        \n",
       "9144  JFK       NYC       US        MKE       MKE       US        MKE        \n",
       "\n",
       "      brd_city  brd_ctry  off_port  off_city  off_ctry  mkt_port  mkt_city  \\\n",
       "1766  PIT       US        MCO       ORL       US        MCOPIT    ORLPIT     \n",
       "8466  MSP       US        IAH       HOU       US        IAHMSP    HOUMSP     \n",
       "1017  GUM       GU        KIX       OSA       JP        GUMKIX    GUMOSA     \n",
       "4295  DPS       ID        AKL       AKL       NZ        AKLDPS    AKLDPS     \n",
       "9144  MKE       US        JFK       NYC       US        JFKMKE    MKENYC     \n",
       "\n",
       "      mkt_ctry  intl  route           carrier  bkg_class  cab_class  \\\n",
       "1766  USUS         0  PITMCO               PV  L          Y           \n",
       "8466  USUS         0  MSPIAH               FK  Q          Y           \n",
       "1017  GUJP         1  GUMKIX               NV  K          Y           \n",
       "4295  IDNZ         1  DPSKULAKL            WR  Y          Y           \n",
       "9144  USUS         0  MKEJFK               NV  V          Y           \n",
       "\n",
       "      brd_time             off_time             pax  year  month  oid        \n",
       "1766  2013-03-20 17:23:00  2013-03-20 19:45:52    1  2013      3  NULL       \n",
       "8466  2013-03-19 16:04:00  2013-03-19 18:49:35    1  2013      3  NULL       \n",
       "1017  2013-07-29 16:50:00  2013-07-29 19:35:45   -6  2013      3  NULL       \n",
       "4295  2013-05-04 16:05:00  2013-05-05 12:46:58   -2  2013      3  PMRHF3102  \n",
       "9144  2013-04-10 12:05:00  2013-04-10 15:17:24   -1  2013      3  NULL       "
      ]
     },
     "execution_count": 5,
     "metadata": {},
     "output_type": "execute_result"
    }
   ],
   "source": [
    "bookings = pd.read_csv('bookings.csv.bz2',sep='^', nrows=10000)\n",
    "pd.set_option('display.max_columns', None) # To display all the columns\n",
    "bookings.sample(5)"
   ]
  },
  {
   "cell_type": "markdown",
   "metadata": {},
   "source": [
    "#### 2. Select the columns of interest and remove the Nan\n",
    "\n",
    "As mentioned we are going to need the arrival airport, passenger and year columns."
   ]
  },
  {
   "cell_type": "code",
   "execution_count": 6,
   "metadata": {
    "scrolled": true
   },
   "outputs": [
    {
     "data": {
      "text/plain": [
       "Index(['act_date           ', 'source', 'pos_ctry', 'pos_iata', 'pos_oid  ',\n",
       "       'rloc          ', 'cre_date           ', 'duration', 'distance',\n",
       "       'dep_port', 'dep_city', 'dep_ctry', 'arr_port', 'arr_city', 'arr_ctry',\n",
       "       'lst_port', 'lst_city', 'lst_ctry', 'brd_port', 'brd_city', 'brd_ctry',\n",
       "       'off_port', 'off_city', 'off_ctry', 'mkt_port', 'mkt_city', 'mkt_ctry',\n",
       "       'intl', 'route          ', 'carrier', 'bkg_class', 'cab_class',\n",
       "       'brd_time           ', 'off_time           ', 'pax', 'year', 'month',\n",
       "       'oid      '],\n",
       "      dtype='object')"
      ]
     },
     "execution_count": 6,
     "metadata": {},
     "output_type": "execute_result"
    }
   ],
   "source": [
    "bookings.columns"
   ]
  },
  {
   "cell_type": "code",
   "execution_count": 7,
   "metadata": {},
   "outputs": [
    {
     "data": {
      "text/html": [
       "<div>\n",
       "<style scoped>\n",
       "    .dataframe tbody tr th:only-of-type {\n",
       "        vertical-align: middle;\n",
       "    }\n",
       "\n",
       "    .dataframe tbody tr th {\n",
       "        vertical-align: top;\n",
       "    }\n",
       "\n",
       "    .dataframe thead th {\n",
       "        text-align: right;\n",
       "    }\n",
       "</style>\n",
       "<table border=\"1\" class=\"dataframe\">\n",
       "  <thead>\n",
       "    <tr style=\"text-align: right;\">\n",
       "      <th></th>\n",
       "      <th>arr_port</th>\n",
       "      <th>pax</th>\n",
       "      <th>year</th>\n",
       "    </tr>\n",
       "  </thead>\n",
       "  <tbody>\n",
       "    <tr>\n",
       "      <td>9517</td>\n",
       "      <td>TFS</td>\n",
       "      <td>2</td>\n",
       "      <td>2013</td>\n",
       "    </tr>\n",
       "    <tr>\n",
       "      <td>8789</td>\n",
       "      <td>PLS</td>\n",
       "      <td>1</td>\n",
       "      <td>2013</td>\n",
       "    </tr>\n",
       "    <tr>\n",
       "      <td>5424</td>\n",
       "      <td>GUA</td>\n",
       "      <td>1</td>\n",
       "      <td>2013</td>\n",
       "    </tr>\n",
       "    <tr>\n",
       "      <td>6766</td>\n",
       "      <td>MSY</td>\n",
       "      <td>1</td>\n",
       "      <td>2013</td>\n",
       "    </tr>\n",
       "    <tr>\n",
       "      <td>7249</td>\n",
       "      <td>YYC</td>\n",
       "      <td>2</td>\n",
       "      <td>2013</td>\n",
       "    </tr>\n",
       "  </tbody>\n",
       "</table>\n",
       "</div>"
      ],
      "text/plain": [
       "      arr_port  pax  year\n",
       "9517  TFS         2  2013\n",
       "8789  PLS         1  2013\n",
       "5424  GUA         1  2013\n",
       "6766  MSY         1  2013\n",
       "7249  YYC         2  2013"
      ]
     },
     "execution_count": 7,
     "metadata": {},
     "output_type": "execute_result"
    }
   ],
   "source": [
    "bookings = pd.read_csv('bookings.csv.bz2', sep='^', usecols=['arr_port','pax', 'year'],\n",
    "                       nrows=10000)\n",
    "bookings =bookings.dropna()\n",
    "bookings.sample(5)"
   ]
  },
  {
   "cell_type": "markdown",
   "metadata": {},
   "source": [
    "#### 3. Make an action plan"
   ]
  },
  {
   "cell_type": "markdown",
   "metadata": {},
   "source": [
    "1. Filter the year 2013 \n",
    "2. Group by airport\n",
    "3. Sum the passengers\n",
    "4. Sort by passengers with ascending = False option\n",
    "5. Select the Top 10"
   ]
  },
  {
   "cell_type": "code",
   "execution_count": 8,
   "metadata": {},
   "outputs": [
    {
     "data": {
      "text/html": [
       "<div>\n",
       "<style scoped>\n",
       "    .dataframe tbody tr th:only-of-type {\n",
       "        vertical-align: middle;\n",
       "    }\n",
       "\n",
       "    .dataframe tbody tr th {\n",
       "        vertical-align: top;\n",
       "    }\n",
       "\n",
       "    .dataframe thead th {\n",
       "        text-align: right;\n",
       "    }\n",
       "</style>\n",
       "<table border=\"1\" class=\"dataframe\">\n",
       "  <thead>\n",
       "    <tr style=\"text-align: right;\">\n",
       "      <th></th>\n",
       "      <th>pax</th>\n",
       "    </tr>\n",
       "    <tr>\n",
       "      <th>arr_port</th>\n",
       "      <th></th>\n",
       "    </tr>\n",
       "  </thead>\n",
       "  <tbody>\n",
       "    <tr>\n",
       "      <td>HKG</td>\n",
       "      <td>112</td>\n",
       "    </tr>\n",
       "    <tr>\n",
       "      <td>LGA</td>\n",
       "      <td>95</td>\n",
       "    </tr>\n",
       "    <tr>\n",
       "      <td>ORD</td>\n",
       "      <td>94</td>\n",
       "    </tr>\n",
       "    <tr>\n",
       "      <td>JFK</td>\n",
       "      <td>92</td>\n",
       "    </tr>\n",
       "    <tr>\n",
       "      <td>LAX</td>\n",
       "      <td>91</td>\n",
       "    </tr>\n",
       "    <tr>\n",
       "      <td>SFO</td>\n",
       "      <td>91</td>\n",
       "    </tr>\n",
       "    <tr>\n",
       "      <td>MCO</td>\n",
       "      <td>90</td>\n",
       "    </tr>\n",
       "    <tr>\n",
       "      <td>DCA</td>\n",
       "      <td>82</td>\n",
       "    </tr>\n",
       "    <tr>\n",
       "      <td>DEN</td>\n",
       "      <td>79</td>\n",
       "    </tr>\n",
       "    <tr>\n",
       "      <td>LHR</td>\n",
       "      <td>76</td>\n",
       "    </tr>\n",
       "  </tbody>\n",
       "</table>\n",
       "</div>"
      ],
      "text/plain": [
       "          pax\n",
       "arr_port     \n",
       "HKG       112\n",
       "LGA        95\n",
       "ORD        94\n",
       "JFK        92\n",
       "LAX        91\n",
       "SFO        91\n",
       "MCO        90\n",
       "DCA        82\n",
       "DEN        79\n",
       "LHR        76"
      ]
     },
     "execution_count": 8,
     "metadata": {},
     "output_type": "execute_result"
    }
   ],
   "source": [
    "# Filtering the year 2013 and returning only the 'arr_port' and'pax' columns.\n",
    "bookings=bookings[bookings['year']==2013 ][['arr_port','pax']]\n",
    "# Grouping by airports and summing the passengers to take out the cancelations.\n",
    "# Sorting by passengers and by descending order. \n",
    "bookings=bookings.groupby('arr_port').sum().sort_values('pax',ascending=False)\n",
    "#Getting the top 10 arrival airports.\n",
    "bookings.head(10)"
   ]
  },
  {
   "cell_type": "markdown",
   "metadata": {},
   "source": [
    "#### 4. Develop the code that works with Big Data\n",
    "\n",
    "For that we are going to work with chunks."
   ]
  },
  {
   "cell_type": "code",
   "execution_count": 9,
   "metadata": {},
   "outputs": [
    {
     "name": "stdout",
     "output_type": "stream",
     "text": [
      "0\n",
      "1\n",
      "2\n",
      "3\n",
      "4\n",
      "5\n",
      "6\n",
      "7\n",
      "8\n",
      "9\n",
      "10\n",
      "CPU times: user 3min 28s, sys: 2.8 s, total: 3min 30s\n",
      "Wall time: 3min 35s\n"
     ]
    },
    {
     "data": {
      "text/html": [
       "<div>\n",
       "<style scoped>\n",
       "    .dataframe tbody tr th:only-of-type {\n",
       "        vertical-align: middle;\n",
       "    }\n",
       "\n",
       "    .dataframe tbody tr th {\n",
       "        vertical-align: top;\n",
       "    }\n",
       "\n",
       "    .dataframe thead th {\n",
       "        text-align: right;\n",
       "    }\n",
       "</style>\n",
       "<table border=\"1\" class=\"dataframe\">\n",
       "  <thead>\n",
       "    <tr style=\"text-align: right;\">\n",
       "      <th></th>\n",
       "      <th>pax</th>\n",
       "    </tr>\n",
       "    <tr>\n",
       "      <th>arr_port</th>\n",
       "      <th></th>\n",
       "    </tr>\n",
       "  </thead>\n",
       "  <tbody>\n",
       "    <tr>\n",
       "      <td>LHR</td>\n",
       "      <td>88809.0</td>\n",
       "    </tr>\n",
       "    <tr>\n",
       "      <td>MCO</td>\n",
       "      <td>70930.0</td>\n",
       "    </tr>\n",
       "    <tr>\n",
       "      <td>LAX</td>\n",
       "      <td>70530.0</td>\n",
       "    </tr>\n",
       "    <tr>\n",
       "      <td>LAS</td>\n",
       "      <td>69630.0</td>\n",
       "    </tr>\n",
       "    <tr>\n",
       "      <td>JFK</td>\n",
       "      <td>66270.0</td>\n",
       "    </tr>\n",
       "    <tr>\n",
       "      <td>CDG</td>\n",
       "      <td>64490.0</td>\n",
       "    </tr>\n",
       "    <tr>\n",
       "      <td>BKK</td>\n",
       "      <td>59460.0</td>\n",
       "    </tr>\n",
       "    <tr>\n",
       "      <td>MIA</td>\n",
       "      <td>58150.0</td>\n",
       "    </tr>\n",
       "    <tr>\n",
       "      <td>SFO</td>\n",
       "      <td>58000.0</td>\n",
       "    </tr>\n",
       "    <tr>\n",
       "      <td>DXB</td>\n",
       "      <td>55590.0</td>\n",
       "    </tr>\n",
       "  </tbody>\n",
       "</table>\n",
       "</div>"
      ],
      "text/plain": [
       "              pax\n",
       "arr_port         \n",
       "LHR       88809.0\n",
       "MCO       70930.0\n",
       "LAX       70530.0\n",
       "LAS       69630.0\n",
       "JFK       66270.0\n",
       "CDG       64490.0\n",
       "BKK       59460.0\n",
       "MIA       58150.0\n",
       "SFO       58000.0\n",
       "DXB       55590.0"
      ]
     },
     "execution_count": 9,
     "metadata": {},
     "output_type": "execute_result"
    }
   ],
   "source": [
    "%%time\n",
    "# 1. First we define the chunsize.\n",
    "bookings_chunks = pd.read_csv('bookings.csv.bz2',sep='^',\n",
    "                              usecols=['arr_port','pax', 'year'], chunksize=1000000)\n",
    "#2. Put all the chunks together in a variable called all_chunks\n",
    "\"\"\"For every interation we filter by year, group by arrival airport and sum the passengers\n",
    "to take of the cancelations.\"\"\"\n",
    "all_chunks=pd.DataFrame()\n",
    "for i, b_chunk in enumerate(bookings_chunks):\n",
    "    print(i)\n",
    "    bookings=b_chunk.dropna()\n",
    "    bookings=bookings[bookings['year']==2013 ][['arr_port', 'pax']].groupby('arr_port').sum()\n",
    "    all_chunks=all_chunks.append(bookings)\n",
    "# 3. Last step we reset the index and again filter the values but this time sorting.\n",
    "all_chunks=all_chunks.reset_index().groupby('arr_port').sum().sort_values('pax',ascending=False)\n",
    "all_chunks.head(10)"
   ]
  },
  {
   "cell_type": "markdown",
   "metadata": {},
   "source": [
    "#### 5. Bonus Point"
   ]
  },
  {
   "cell_type": "code",
   "execution_count": 10,
   "metadata": {},
   "outputs": [
    {
     "name": "stdout",
     "output_type": "stream",
     "text": [
      "Requirement already satisfied: neobase in /Users/thiago/opt/anaconda3/lib/python3.7/site-packages (0.20.1)\n",
      "Requirement already satisfied: argparse in /Users/thiago/opt/anaconda3/lib/python3.7/site-packages (from neobase) (1.4.0)\n",
      "Note: you may need to restart the kernel to use updated packages.\n"
     ]
    }
   ],
   "source": [
    "%pip install neobase\n",
    "import neobase as nb\n",
    "from neobase import NeoBase"
   ]
  },
  {
   "cell_type": "code",
   "execution_count": 11,
   "metadata": {},
   "outputs": [
    {
     "data": {
      "text/plain": [
       "{'__dup__': set(),\n",
       " 'iata_code': 'LHR',\n",
       " 'name': 'London Heathrow Airport',\n",
       " 'lat': '51.4775',\n",
       " 'lng': '-0.461389',\n",
       " 'page_rank': 0.44517643489228376,\n",
       " 'country_code': 'GB',\n",
       " 'country_name': 'United Kingdom',\n",
       " 'continent_name': 'Europe',\n",
       " 'timezone': 'Europe/London',\n",
       " 'city_code_list': ['LON'],\n",
       " 'city_name_list': ['London'],\n",
       " 'location_type': ['A'],\n",
       " 'currency': 'GBP'}"
      ]
     },
     "execution_count": 11,
     "metadata": {},
     "output_type": "execute_result"
    }
   ],
   "source": [
    "geoDict=NeoBase()\n",
    "# The function \"get\" return as a dictionary type the information of the IATA given.\n",
    "geoDict.get('LHR')\n",
    "# In this case we are going to need the \"name\" information."
   ]
  },
  {
   "cell_type": "code",
   "execution_count": 12,
   "metadata": {},
   "outputs": [
    {
     "data": {
      "text/plain": [
       "'London Heathrow Airport'"
      ]
     },
     "execution_count": 12,
     "metadata": {},
     "output_type": "execute_result"
    }
   ],
   "source": [
    "geoDict.get('LHR', 'name')"
   ]
  },
  {
   "cell_type": "markdown",
   "metadata": {},
   "source": [
    "At this point we need to remove the white spaces from the arr_port column."
   ]
  },
  {
   "cell_type": "code",
   "execution_count": 13,
   "metadata": {},
   "outputs": [],
   "source": [
    "all_chunks = all_chunks.reset_index().head()\n"
   ]
  },
  {
   "cell_type": "code",
   "execution_count": 14,
   "metadata": {},
   "outputs": [
    {
     "data": {
      "text/plain": [
       "'LHR     '"
      ]
     },
     "execution_count": 14,
     "metadata": {},
     "output_type": "execute_result"
    }
   ],
   "source": [
    "all_chunks.arr_port[0]"
   ]
  },
  {
   "cell_type": "code",
   "execution_count": 15,
   "metadata": {},
   "outputs": [],
   "source": [
    "all_chunks['arr_port']=all_chunks['arr_port'].str.strip()"
   ]
  },
  {
   "cell_type": "markdown",
   "metadata": {},
   "source": [
    "Now we test to see if everything works fine."
   ]
  },
  {
   "cell_type": "code",
   "execution_count": 16,
   "metadata": {},
   "outputs": [
    {
     "data": {
      "text/plain": [
       "'London Heathrow Airport'"
      ]
     },
     "execution_count": 16,
     "metadata": {},
     "output_type": "execute_result"
    }
   ],
   "source": [
    "geoDict.get(all_chunks.arr_port[0],'name')"
   ]
  },
  {
   "cell_type": "markdown",
   "metadata": {},
   "source": [
    "Using a \"map\" function we'll create a new columns with the airport name."
   ]
  },
  {
   "cell_type": "code",
   "execution_count": 17,
   "metadata": {},
   "outputs": [],
   "source": [
    "all_chunks['AirportName']=all_chunks['arr_port'].map(lambda x: geoDict.get(x,'name'))"
   ]
  },
  {
   "cell_type": "code",
   "execution_count": 18,
   "metadata": {},
   "outputs": [
    {
     "data": {
      "text/html": [
       "<div>\n",
       "<style scoped>\n",
       "    .dataframe tbody tr th:only-of-type {\n",
       "        vertical-align: middle;\n",
       "    }\n",
       "\n",
       "    .dataframe tbody tr th {\n",
       "        vertical-align: top;\n",
       "    }\n",
       "\n",
       "    .dataframe thead th {\n",
       "        text-align: right;\n",
       "    }\n",
       "</style>\n",
       "<table border=\"1\" class=\"dataframe\">\n",
       "  <thead>\n",
       "    <tr style=\"text-align: right;\">\n",
       "      <th></th>\n",
       "      <th>arr_port</th>\n",
       "      <th>pax</th>\n",
       "      <th>AirportName</th>\n",
       "    </tr>\n",
       "  </thead>\n",
       "  <tbody>\n",
       "    <tr>\n",
       "      <td>0</td>\n",
       "      <td>LHR</td>\n",
       "      <td>88809.0</td>\n",
       "      <td>London Heathrow Airport</td>\n",
       "    </tr>\n",
       "    <tr>\n",
       "      <td>1</td>\n",
       "      <td>MCO</td>\n",
       "      <td>70930.0</td>\n",
       "      <td>Orlando International Airport</td>\n",
       "    </tr>\n",
       "    <tr>\n",
       "      <td>2</td>\n",
       "      <td>LAX</td>\n",
       "      <td>70530.0</td>\n",
       "      <td>Los Angeles International Airport</td>\n",
       "    </tr>\n",
       "    <tr>\n",
       "      <td>3</td>\n",
       "      <td>LAS</td>\n",
       "      <td>69630.0</td>\n",
       "      <td>McCarran International Airport</td>\n",
       "    </tr>\n",
       "    <tr>\n",
       "      <td>4</td>\n",
       "      <td>JFK</td>\n",
       "      <td>66270.0</td>\n",
       "      <td>John F. Kennedy International Airport</td>\n",
       "    </tr>\n",
       "  </tbody>\n",
       "</table>\n",
       "</div>"
      ],
      "text/plain": [
       "  arr_port      pax                            AirportName\n",
       "0      LHR  88809.0                London Heathrow Airport\n",
       "1      MCO  70930.0          Orlando International Airport\n",
       "2      LAX  70530.0      Los Angeles International Airport\n",
       "3      LAS  69630.0         McCarran International Airport\n",
       "4      JFK  66270.0  John F. Kennedy International Airport"
      ]
     },
     "execution_count": 18,
     "metadata": {},
     "output_type": "execute_result"
    }
   ],
   "source": [
    "all_chunks.head()"
   ]
  },
  {
   "cell_type": "markdown",
   "metadata": {},
   "source": [
    "### Final Solution"
   ]
  },
  {
   "cell_type": "code",
   "execution_count": 21,
   "metadata": {},
   "outputs": [
    {
     "name": "stdout",
     "output_type": "stream",
     "text": [
      "0\n",
      "1\n",
      "2\n",
      "3\n",
      "4\n",
      "5\n",
      "6\n",
      "7\n",
      "8\n",
      "9\n",
      "10\n",
      "  arr_port    pax                            AirportName\n",
      "0      LHR  88809                London Heathrow Airport\n",
      "1      MCO  70930          Orlando International Airport\n",
      "2      LAX  70530      Los Angeles International Airport\n",
      "3      LAS  69630         McCarran International Airport\n",
      "4      JFK  66270  John F. Kennedy International Airport\n",
      "5      CDG  64490        Paris Charles de Gaulle Airport\n",
      "6      BKK  59460                   Suvarnabhumi Airport\n",
      "7      MIA  58150            Miami International Airport\n",
      "8      SFO  58000    San Francisco International Airport\n",
      "9      DXB  55590            Dubai International Airport\n",
      "arr_port^pax^AirportName\n",
      "LHR^88809^London Heathrow Airport\n",
      "MCO^70930^Orlando International Airport\n",
      "LAX^70530^Los Angeles International Airport\n",
      "LAS^69630^McCarran International Airport\n",
      "JFK^66270^John F. Kennedy International Airport\n",
      "CDG^64490^Paris Charles de Gaulle Airport\n",
      "BKK^59460^Suvarnabhumi Airport\n",
      "MIA^58150^Miami International Airport\n",
      "SFO^58000^San Francisco International Airport\n",
      "CPU times: user 3min 30s, sys: 2.96 s, total: 3min 33s\n",
      "Wall time: 3min 32s\n"
     ]
    }
   ],
   "source": [
    "%%time\n",
    "import pandas as pd\n",
    "from neobase import NeoBase\n",
    "geoDict=NeoBase()\n",
    "\n",
    "# 1. First we define the chunsize.\n",
    "bookings_chunks = pd.read_csv('bookings.csv.bz2', sep='^',\n",
    "                              usecols = ['arr_port','pax', 'year'],\n",
    "                              chunksize = 1000000)\n",
    "\n",
    "#2. Put all the chunks together in a variable called all_chunks\n",
    "\"\"\"For every interation we filter by year, group by arrival airport and sum the passengers\n",
    "to take of the cancelations.\"\"\"\n",
    "all_chunks = pd.DataFrame()\n",
    "\n",
    "for i, b_chunk in enumerate(bookings_chunks):\n",
    "    print(i) # To see the running process\n",
    "    bookings = b_chunk.dropna()\n",
    "    bookings=bookings[bookings['year']==2013 ][['arr_port', 'pax']].groupby('arr_port').sum()\n",
    "    all_chunks=all_chunks.append(bookings)\n",
    "\n",
    "    \n",
    "# 3. Last step we reset the index and again filter the values but this time sorting.    \n",
    "all_chunks=all_chunks.reset_index().groupby('arr_port').sum().sort_values('pax',ascending=False).reset_index()\n",
    "all_chunks['arr_port']=all_chunks['arr_port'].str.strip()\n",
    "# 4. After running the code we discover that has one IATA code wrong ('CPQ'). Need to remove.\n",
    "all_chunks=all_chunks[all_chunks['arr_port'] != 'CPQ']\n",
    "all_chunks['AirportName']=all_chunks['arr_port'].map(lambda x: geoDict.get(x,'name'))\n",
    "all_chunks=all_chunks.astype({'pax':int})\n",
    "print(all_chunks.head(10))\n",
    "\n",
    "#Saving the file\n",
    "all_chunks.to_csv('top_airports.csv', sep='^', index=False)\n",
    "!head ./top_airports.csv"
   ]
  },
  {
   "cell_type": "markdown",
   "metadata": {},
   "source": [
    "### 3. Plot the monthly number of searches for flights arriving at Málaga, Madrid or Barcelona\n",
    "\n",
    "For the arriving airport, you can use the Destination column in the searches file. \n",
    "Plot a curve for Málaga, another one for Madrid, and another one for Barcelona, in the same figure.\n",
    "\n",
    "Bonus point: Solving this problem using pandas (instead of any other approach)\n"
   ]
  },
  {
   "cell_type": "markdown",
   "metadata": {},
   "source": [
    "These are the steps that we'll follow to solve this exercise:\n",
    "\n",
    "1. Get familiar with data\n",
    "2. Select the columns of interest\n",
    "3. Cleaning the Data\n",
    "4. Make action plan\n",
    "5. Adjust the code to work with Big data"
   ]
  },
  {
   "cell_type": "markdown",
   "metadata": {},
   "source": [
    "### 1. Get Familiar with the Data"
   ]
  },
  {
   "cell_type": "code",
   "execution_count": 46,
   "metadata": {},
   "outputs": [
    {
     "name": "stdout",
     "output_type": "stream",
     "text": [
      "Date^Time^TxnCode^OfficeID^Country^Origin^Destination^RoundTrip^NbSegments^Seg1Departure^Seg1Arrival^Seg1Date^Seg1Carrier^Seg1BookingCode^Seg2Departure^Seg2Arrival^Seg2Date^Seg2Carrier^Seg2BookingCode^Seg3Departure^Seg3Arrival^Seg3Date^Seg3Carrier^Seg3BookingCode^Seg4Departure^Seg4Arrival^Seg4Date^Seg4Carrier^Seg4BookingCode^Seg5Departure^Seg5Arrival^Seg5Date^Seg5Carrier^Seg5BookingCode^Seg6Departure^Seg6Arrival^Seg6Date^Seg6Carrier^Seg6BookingCode^From^IsPublishedForNeg^IsFromInternet^IsFromVista^TerminalID^InternetOffice\r\n",
      "2013-01-01^20:25:57^MPT^624d8c3ac0b3a7ca03e3c167e0f48327^DE^TXL^AUH^1^2^TXL^AUH^2013-01-26^D2^^AUH^TXL^2013-02-02^D2^^^^^^^^^^^^^^^^^^^^^^1ASIWS^0^0^0^d41d8cd98f00b204e9800998ecf8427e^FRA\r\n",
      "\r\n",
      "bzcat: I/O or other error, bailing out.  Possible reason follows.\r\n",
      "bzcat: Broken pipe\r\n",
      "\tInput file = ./searches.csv.bz2, output file = (stdout)\r\n"
     ]
    }
   ],
   "source": [
    "! bzcat ./searches.csv.bz2 | head -2"
   ]
  },
  {
   "cell_type": "markdown",
   "metadata": {},
   "source": [
    "Also we have \"^\" as a delimiter."
   ]
  },
  {
   "cell_type": "code",
   "execution_count": 47,
   "metadata": {},
   "outputs": [
    {
     "name": "stdout",
     "output_type": "stream",
     "text": [
      "<class 'pandas.core.frame.DataFrame'>\n",
      "RangeIndex: 10000 entries, 0 to 9999\n",
      "Data columns (total 45 columns):\n",
      "Date                 10000 non-null object\n",
      "Time                 10000 non-null object\n",
      "TxnCode              10000 non-null object\n",
      "OfficeID             10000 non-null object\n",
      "Country              10000 non-null object\n",
      "Origin               10000 non-null object\n",
      "Destination          10000 non-null object\n",
      "RoundTrip            10000 non-null int64\n",
      "NbSegments           10000 non-null int64\n",
      "Seg1Departure        10000 non-null object\n",
      "Seg1Arrival          10000 non-null object\n",
      "Seg1Date             9973 non-null object\n",
      "Seg1Carrier          4047 non-null object\n",
      "Seg1BookingCode      1143 non-null object\n",
      "Seg2Departure        7196 non-null object\n",
      "Seg2Arrival          7196 non-null object\n",
      "Seg2Date             7161 non-null object\n",
      "Seg2Carrier          2870 non-null object\n",
      "Seg2BookingCode      998 non-null object\n",
      "Seg3Departure        534 non-null object\n",
      "Seg3Arrival          534 non-null object\n",
      "Seg3Date             531 non-null object\n",
      "Seg3Carrier          517 non-null object\n",
      "Seg3BookingCode      508 non-null object\n",
      "Seg4Departure        440 non-null object\n",
      "Seg4Arrival          440 non-null object\n",
      "Seg4Date             439 non-null object\n",
      "Seg4Carrier          438 non-null object\n",
      "Seg4BookingCode      436 non-null object\n",
      "Seg5Departure        103 non-null object\n",
      "Seg5Arrival          103 non-null object\n",
      "Seg5Date             103 non-null object\n",
      "Seg5Carrier          103 non-null object\n",
      "Seg5BookingCode      103 non-null object\n",
      "Seg6Departure        58 non-null object\n",
      "Seg6Arrival          58 non-null object\n",
      "Seg6Date             58 non-null object\n",
      "Seg6Carrier          58 non-null object\n",
      "Seg6BookingCode      58 non-null object\n",
      "From                 9925 non-null object\n",
      "IsPublishedForNeg    10000 non-null int64\n",
      "IsFromInternet       10000 non-null int64\n",
      "IsFromVista          10000 non-null int64\n",
      "TerminalID           10000 non-null object\n",
      "InternetOffice       10000 non-null object\n",
      "dtypes: int64(5), object(40)\n",
      "memory usage: 3.4+ MB\n",
      "None\n"
     ]
    },
    {
     "data": {
      "text/html": [
       "<div>\n",
       "<style scoped>\n",
       "    .dataframe tbody tr th:only-of-type {\n",
       "        vertical-align: middle;\n",
       "    }\n",
       "\n",
       "    .dataframe tbody tr th {\n",
       "        vertical-align: top;\n",
       "    }\n",
       "\n",
       "    .dataframe thead th {\n",
       "        text-align: right;\n",
       "    }\n",
       "</style>\n",
       "<table border=\"1\" class=\"dataframe\">\n",
       "  <thead>\n",
       "    <tr style=\"text-align: right;\">\n",
       "      <th></th>\n",
       "      <th>Date</th>\n",
       "      <th>Time</th>\n",
       "      <th>TxnCode</th>\n",
       "      <th>OfficeID</th>\n",
       "      <th>Country</th>\n",
       "      <th>Origin</th>\n",
       "      <th>Destination</th>\n",
       "      <th>RoundTrip</th>\n",
       "      <th>NbSegments</th>\n",
       "      <th>Seg1Departure</th>\n",
       "      <th>Seg1Arrival</th>\n",
       "      <th>Seg1Date</th>\n",
       "      <th>Seg1Carrier</th>\n",
       "      <th>Seg1BookingCode</th>\n",
       "      <th>Seg2Departure</th>\n",
       "      <th>Seg2Arrival</th>\n",
       "      <th>Seg2Date</th>\n",
       "      <th>Seg2Carrier</th>\n",
       "      <th>Seg2BookingCode</th>\n",
       "      <th>Seg3Departure</th>\n",
       "      <th>Seg3Arrival</th>\n",
       "      <th>Seg3Date</th>\n",
       "      <th>Seg3Carrier</th>\n",
       "      <th>Seg3BookingCode</th>\n",
       "      <th>Seg4Departure</th>\n",
       "      <th>Seg4Arrival</th>\n",
       "      <th>Seg4Date</th>\n",
       "      <th>Seg4Carrier</th>\n",
       "      <th>Seg4BookingCode</th>\n",
       "      <th>Seg5Departure</th>\n",
       "      <th>Seg5Arrival</th>\n",
       "      <th>Seg5Date</th>\n",
       "      <th>Seg5Carrier</th>\n",
       "      <th>Seg5BookingCode</th>\n",
       "      <th>Seg6Departure</th>\n",
       "      <th>Seg6Arrival</th>\n",
       "      <th>Seg6Date</th>\n",
       "      <th>Seg6Carrier</th>\n",
       "      <th>Seg6BookingCode</th>\n",
       "      <th>From</th>\n",
       "      <th>IsPublishedForNeg</th>\n",
       "      <th>IsFromInternet</th>\n",
       "      <th>IsFromVista</th>\n",
       "      <th>TerminalID</th>\n",
       "      <th>InternetOffice</th>\n",
       "    </tr>\n",
       "  </thead>\n",
       "  <tbody>\n",
       "    <tr>\n",
       "      <td>802</td>\n",
       "      <td>2013-01-01</td>\n",
       "      <td>22:50:20</td>\n",
       "      <td>MPT</td>\n",
       "      <td>a615de182aabef079774a1cc842a3265</td>\n",
       "      <td>GB</td>\n",
       "      <td>LON</td>\n",
       "      <td>UIO</td>\n",
       "      <td>0</td>\n",
       "      <td>1</td>\n",
       "      <td>LON</td>\n",
       "      <td>UIO</td>\n",
       "      <td>2013-01-06</td>\n",
       "      <td>NaN</td>\n",
       "      <td>NaN</td>\n",
       "      <td>NaN</td>\n",
       "      <td>NaN</td>\n",
       "      <td>NaN</td>\n",
       "      <td>NaN</td>\n",
       "      <td>NaN</td>\n",
       "      <td>NaN</td>\n",
       "      <td>NaN</td>\n",
       "      <td>NaN</td>\n",
       "      <td>NaN</td>\n",
       "      <td>NaN</td>\n",
       "      <td>NaN</td>\n",
       "      <td>NaN</td>\n",
       "      <td>NaN</td>\n",
       "      <td>NaN</td>\n",
       "      <td>NaN</td>\n",
       "      <td>NaN</td>\n",
       "      <td>NaN</td>\n",
       "      <td>NaN</td>\n",
       "      <td>NaN</td>\n",
       "      <td>NaN</td>\n",
       "      <td>NaN</td>\n",
       "      <td>NaN</td>\n",
       "      <td>NaN</td>\n",
       "      <td>NaN</td>\n",
       "      <td>NaN</td>\n",
       "      <td>1ASI</td>\n",
       "      <td>0</td>\n",
       "      <td>0</td>\n",
       "      <td>0</td>\n",
       "      <td>d41d8cd98f00b204e9800998ecf8427e</td>\n",
       "      <td>LON</td>\n",
       "    </tr>\n",
       "    <tr>\n",
       "      <td>5849</td>\n",
       "      <td>2013-01-06</td>\n",
       "      <td>19:22:13</td>\n",
       "      <td>MPT</td>\n",
       "      <td>f0df4b564514839fbfe2ac71b8c6f12e</td>\n",
       "      <td>CA</td>\n",
       "      <td>YYC</td>\n",
       "      <td>DAR</td>\n",
       "      <td>1</td>\n",
       "      <td>2</td>\n",
       "      <td>YYC</td>\n",
       "      <td>DAR</td>\n",
       "      <td>2013-04-22</td>\n",
       "      <td>NaN</td>\n",
       "      <td>NaN</td>\n",
       "      <td>DAR</td>\n",
       "      <td>YYC</td>\n",
       "      <td>2013-05-06</td>\n",
       "      <td>NaN</td>\n",
       "      <td>NaN</td>\n",
       "      <td>NaN</td>\n",
       "      <td>NaN</td>\n",
       "      <td>NaN</td>\n",
       "      <td>NaN</td>\n",
       "      <td>NaN</td>\n",
       "      <td>NaN</td>\n",
       "      <td>NaN</td>\n",
       "      <td>NaN</td>\n",
       "      <td>NaN</td>\n",
       "      <td>NaN</td>\n",
       "      <td>NaN</td>\n",
       "      <td>NaN</td>\n",
       "      <td>NaN</td>\n",
       "      <td>NaN</td>\n",
       "      <td>NaN</td>\n",
       "      <td>NaN</td>\n",
       "      <td>NaN</td>\n",
       "      <td>NaN</td>\n",
       "      <td>NaN</td>\n",
       "      <td>NaN</td>\n",
       "      <td>1ASI</td>\n",
       "      <td>0</td>\n",
       "      <td>0</td>\n",
       "      <td>0</td>\n",
       "      <td>d41d8cd98f00b204e9800998ecf8427e</td>\n",
       "      <td>YVR</td>\n",
       "    </tr>\n",
       "    <tr>\n",
       "      <td>4667</td>\n",
       "      <td>2013-01-05</td>\n",
       "      <td>14:41:16</td>\n",
       "      <td>MPT</td>\n",
       "      <td>440642a9bdaeb6287f826cefd73255e8</td>\n",
       "      <td>US</td>\n",
       "      <td>NYC</td>\n",
       "      <td>BKI</td>\n",
       "      <td>1</td>\n",
       "      <td>2</td>\n",
       "      <td>NYC</td>\n",
       "      <td>BKI</td>\n",
       "      <td>2013-03-29</td>\n",
       "      <td>FK</td>\n",
       "      <td>NaN</td>\n",
       "      <td>BKI</td>\n",
       "      <td>NYC</td>\n",
       "      <td>2013-04-07</td>\n",
       "      <td>FK</td>\n",
       "      <td>NaN</td>\n",
       "      <td>NaN</td>\n",
       "      <td>NaN</td>\n",
       "      <td>NaN</td>\n",
       "      <td>NaN</td>\n",
       "      <td>NaN</td>\n",
       "      <td>NaN</td>\n",
       "      <td>NaN</td>\n",
       "      <td>NaN</td>\n",
       "      <td>NaN</td>\n",
       "      <td>NaN</td>\n",
       "      <td>NaN</td>\n",
       "      <td>NaN</td>\n",
       "      <td>NaN</td>\n",
       "      <td>NaN</td>\n",
       "      <td>NaN</td>\n",
       "      <td>NaN</td>\n",
       "      <td>NaN</td>\n",
       "      <td>NaN</td>\n",
       "      <td>NaN</td>\n",
       "      <td>NaN</td>\n",
       "      <td>1ASIWS</td>\n",
       "      <td>0</td>\n",
       "      <td>0</td>\n",
       "      <td>0</td>\n",
       "      <td>d41d8cd98f00b204e9800998ecf8427e</td>\n",
       "      <td>HPN</td>\n",
       "    </tr>\n",
       "    <tr>\n",
       "      <td>5522</td>\n",
       "      <td>2013-01-06</td>\n",
       "      <td>11:57:26</td>\n",
       "      <td>MTP</td>\n",
       "      <td>676ba5b6a22af8f99024015d94a6bb88</td>\n",
       "      <td>GB</td>\n",
       "      <td>MCT</td>\n",
       "      <td>BCN</td>\n",
       "      <td>1</td>\n",
       "      <td>2</td>\n",
       "      <td>MCT</td>\n",
       "      <td>BCN</td>\n",
       "      <td>2013-04-24</td>\n",
       "      <td>NaN</td>\n",
       "      <td>NaN</td>\n",
       "      <td>BCN</td>\n",
       "      <td>MCT</td>\n",
       "      <td>2013-05-01</td>\n",
       "      <td>NaN</td>\n",
       "      <td>NaN</td>\n",
       "      <td>NaN</td>\n",
       "      <td>NaN</td>\n",
       "      <td>NaN</td>\n",
       "      <td>NaN</td>\n",
       "      <td>NaN</td>\n",
       "      <td>NaN</td>\n",
       "      <td>NaN</td>\n",
       "      <td>NaN</td>\n",
       "      <td>NaN</td>\n",
       "      <td>NaN</td>\n",
       "      <td>NaN</td>\n",
       "      <td>NaN</td>\n",
       "      <td>NaN</td>\n",
       "      <td>NaN</td>\n",
       "      <td>NaN</td>\n",
       "      <td>NaN</td>\n",
       "      <td>NaN</td>\n",
       "      <td>NaN</td>\n",
       "      <td>NaN</td>\n",
       "      <td>NaN</td>\n",
       "      <td>1ASIWS</td>\n",
       "      <td>0</td>\n",
       "      <td>0</td>\n",
       "      <td>0</td>\n",
       "      <td>d41d8cd98f00b204e9800998ecf8427e</td>\n",
       "      <td>LON</td>\n",
       "    </tr>\n",
       "    <tr>\n",
       "      <td>4609</td>\n",
       "      <td>2013-01-05</td>\n",
       "      <td>22:30:46</td>\n",
       "      <td>FFP</td>\n",
       "      <td>f127c92cdab5a4eeb21dc606aaed24f6</td>\n",
       "      <td>ES</td>\n",
       "      <td>STR</td>\n",
       "      <td>SAN</td>\n",
       "      <td>1</td>\n",
       "      <td>2</td>\n",
       "      <td>STR</td>\n",
       "      <td>SAN</td>\n",
       "      <td>2013-02-24</td>\n",
       "      <td>7V</td>\n",
       "      <td>NaN</td>\n",
       "      <td>SAN</td>\n",
       "      <td>STR</td>\n",
       "      <td>2013-05-19</td>\n",
       "      <td>7V</td>\n",
       "      <td>NaN</td>\n",
       "      <td>NaN</td>\n",
       "      <td>NaN</td>\n",
       "      <td>NaN</td>\n",
       "      <td>NaN</td>\n",
       "      <td>NaN</td>\n",
       "      <td>NaN</td>\n",
       "      <td>NaN</td>\n",
       "      <td>NaN</td>\n",
       "      <td>NaN</td>\n",
       "      <td>NaN</td>\n",
       "      <td>NaN</td>\n",
       "      <td>NaN</td>\n",
       "      <td>NaN</td>\n",
       "      <td>NaN</td>\n",
       "      <td>NaN</td>\n",
       "      <td>NaN</td>\n",
       "      <td>NaN</td>\n",
       "      <td>NaN</td>\n",
       "      <td>NaN</td>\n",
       "      <td>NaN</td>\n",
       "      <td>1ASIWS</td>\n",
       "      <td>0</td>\n",
       "      <td>0</td>\n",
       "      <td>0</td>\n",
       "      <td>d41d8cd98f00b204e9800998ecf8427e</td>\n",
       "      <td>PMI</td>\n",
       "    </tr>\n",
       "  </tbody>\n",
       "</table>\n",
       "</div>"
      ],
      "text/plain": [
       "            Date      Time TxnCode                          OfficeID Country  \\\n",
       "802   2013-01-01  22:50:20     MPT  a615de182aabef079774a1cc842a3265      GB   \n",
       "5849  2013-01-06  19:22:13     MPT  f0df4b564514839fbfe2ac71b8c6f12e      CA   \n",
       "4667  2013-01-05  14:41:16     MPT  440642a9bdaeb6287f826cefd73255e8      US   \n",
       "5522  2013-01-06  11:57:26     MTP  676ba5b6a22af8f99024015d94a6bb88      GB   \n",
       "4609  2013-01-05  22:30:46     FFP  f127c92cdab5a4eeb21dc606aaed24f6      ES   \n",
       "\n",
       "     Origin Destination  RoundTrip  NbSegments Seg1Departure Seg1Arrival  \\\n",
       "802     LON         UIO          0           1           LON         UIO   \n",
       "5849    YYC         DAR          1           2           YYC         DAR   \n",
       "4667    NYC         BKI          1           2           NYC         BKI   \n",
       "5522    MCT         BCN          1           2           MCT         BCN   \n",
       "4609    STR         SAN          1           2           STR         SAN   \n",
       "\n",
       "        Seg1Date Seg1Carrier Seg1BookingCode Seg2Departure Seg2Arrival  \\\n",
       "802   2013-01-06         NaN             NaN           NaN         NaN   \n",
       "5849  2013-04-22         NaN             NaN           DAR         YYC   \n",
       "4667  2013-03-29          FK             NaN           BKI         NYC   \n",
       "5522  2013-04-24         NaN             NaN           BCN         MCT   \n",
       "4609  2013-02-24          7V             NaN           SAN         STR   \n",
       "\n",
       "        Seg2Date Seg2Carrier Seg2BookingCode Seg3Departure Seg3Arrival  \\\n",
       "802          NaN         NaN             NaN           NaN         NaN   \n",
       "5849  2013-05-06         NaN             NaN           NaN         NaN   \n",
       "4667  2013-04-07          FK             NaN           NaN         NaN   \n",
       "5522  2013-05-01         NaN             NaN           NaN         NaN   \n",
       "4609  2013-05-19          7V             NaN           NaN         NaN   \n",
       "\n",
       "     Seg3Date Seg3Carrier Seg3BookingCode Seg4Departure Seg4Arrival Seg4Date  \\\n",
       "802       NaN         NaN             NaN           NaN         NaN      NaN   \n",
       "5849      NaN         NaN             NaN           NaN         NaN      NaN   \n",
       "4667      NaN         NaN             NaN           NaN         NaN      NaN   \n",
       "5522      NaN         NaN             NaN           NaN         NaN      NaN   \n",
       "4609      NaN         NaN             NaN           NaN         NaN      NaN   \n",
       "\n",
       "     Seg4Carrier Seg4BookingCode Seg5Departure Seg5Arrival Seg5Date  \\\n",
       "802          NaN             NaN           NaN         NaN      NaN   \n",
       "5849         NaN             NaN           NaN         NaN      NaN   \n",
       "4667         NaN             NaN           NaN         NaN      NaN   \n",
       "5522         NaN             NaN           NaN         NaN      NaN   \n",
       "4609         NaN             NaN           NaN         NaN      NaN   \n",
       "\n",
       "     Seg5Carrier Seg5BookingCode Seg6Departure Seg6Arrival Seg6Date  \\\n",
       "802          NaN             NaN           NaN         NaN      NaN   \n",
       "5849         NaN             NaN           NaN         NaN      NaN   \n",
       "4667         NaN             NaN           NaN         NaN      NaN   \n",
       "5522         NaN             NaN           NaN         NaN      NaN   \n",
       "4609         NaN             NaN           NaN         NaN      NaN   \n",
       "\n",
       "     Seg6Carrier Seg6BookingCode    From  IsPublishedForNeg  IsFromInternet  \\\n",
       "802          NaN             NaN    1ASI                  0               0   \n",
       "5849         NaN             NaN    1ASI                  0               0   \n",
       "4667         NaN             NaN  1ASIWS                  0               0   \n",
       "5522         NaN             NaN  1ASIWS                  0               0   \n",
       "4609         NaN             NaN  1ASIWS                  0               0   \n",
       "\n",
       "      IsFromVista                        TerminalID InternetOffice  \n",
       "802             0  d41d8cd98f00b204e9800998ecf8427e            LON  \n",
       "5849            0  d41d8cd98f00b204e9800998ecf8427e            YVR  \n",
       "4667            0  d41d8cd98f00b204e9800998ecf8427e            HPN  \n",
       "5522            0  d41d8cd98f00b204e9800998ecf8427e            LON  \n",
       "4609            0  d41d8cd98f00b204e9800998ecf8427e            PMI  "
      ]
     },
     "execution_count": 47,
     "metadata": {},
     "output_type": "execute_result"
    }
   ],
   "source": [
    "searches = pd.read_csv('searches.csv.bz2', sep='^', nrows=100000)\n",
    "print(searches.info())\n",
    "searches.sample(5)\n"
   ]
  },
  {
   "cell_type": "markdown",
   "metadata": {},
   "source": [
    "### 2. Select the columns"
   ]
  },
  {
   "cell_type": "code",
   "execution_count": 48,
   "metadata": {},
   "outputs": [
    {
     "data": {
      "text/plain": [
       "Index(['Date', 'Time', 'TxnCode', 'OfficeID', 'Country', 'Origin',\n",
       "       'Destination', 'RoundTrip', 'NbSegments', 'Seg1Departure',\n",
       "       'Seg1Arrival', 'Seg1Date', 'Seg1Carrier', 'Seg1BookingCode',\n",
       "       'Seg2Departure', 'Seg2Arrival', 'Seg2Date', 'Seg2Carrier',\n",
       "       'Seg2BookingCode', 'Seg3Departure', 'Seg3Arrival', 'Seg3Date',\n",
       "       'Seg3Carrier', 'Seg3BookingCode', 'Seg4Departure', 'Seg4Arrival',\n",
       "       'Seg4Date', 'Seg4Carrier', 'Seg4BookingCode', 'Seg5Departure',\n",
       "       'Seg5Arrival', 'Seg5Date', 'Seg5Carrier', 'Seg5BookingCode',\n",
       "       'Seg6Departure', 'Seg6Arrival', 'Seg6Date', 'Seg6Carrier',\n",
       "       'Seg6BookingCode', 'From', 'IsPublishedForNeg', 'IsFromInternet',\n",
       "       'IsFromVista', 'TerminalID', 'InternetOffice'],\n",
       "      dtype='object')"
      ]
     },
     "execution_count": 48,
     "metadata": {},
     "output_type": "execute_result"
    }
   ],
   "source": [
    "searches.columns"
   ]
  },
  {
   "cell_type": "code",
   "execution_count": 62,
   "metadata": {},
   "outputs": [
    {
     "name": "stdout",
     "output_type": "stream",
     "text": [
      "<class 'pandas.core.frame.DataFrame'>\n",
      "RangeIndex: 100000 entries, 0 to 99999\n",
      "Data columns (total 2 columns):\n",
      "Date           100000 non-null object\n",
      "Destination    100000 non-null object\n",
      "dtypes: object(2)\n",
      "memory usage: 1.5+ MB\n",
      "None\n"
     ]
    },
    {
     "data": {
      "text/html": [
       "<div>\n",
       "<style scoped>\n",
       "    .dataframe tbody tr th:only-of-type {\n",
       "        vertical-align: middle;\n",
       "    }\n",
       "\n",
       "    .dataframe tbody tr th {\n",
       "        vertical-align: top;\n",
       "    }\n",
       "\n",
       "    .dataframe thead th {\n",
       "        text-align: right;\n",
       "    }\n",
       "</style>\n",
       "<table border=\"1\" class=\"dataframe\">\n",
       "  <thead>\n",
       "    <tr style=\"text-align: right;\">\n",
       "      <th></th>\n",
       "      <th>Date</th>\n",
       "      <th>Destination</th>\n",
       "    </tr>\n",
       "  </thead>\n",
       "  <tbody>\n",
       "    <tr>\n",
       "      <td>93652</td>\n",
       "      <td>2013-04-04</td>\n",
       "      <td>BOS</td>\n",
       "    </tr>\n",
       "    <tr>\n",
       "      <td>54815</td>\n",
       "      <td>2013-02-24</td>\n",
       "      <td>BWK</td>\n",
       "    </tr>\n",
       "    <tr>\n",
       "      <td>39240</td>\n",
       "      <td>2013-02-09</td>\n",
       "      <td>GNB</td>\n",
       "    </tr>\n",
       "    <tr>\n",
       "      <td>25823</td>\n",
       "      <td>2013-01-26</td>\n",
       "      <td>SJO</td>\n",
       "    </tr>\n",
       "    <tr>\n",
       "      <td>39129</td>\n",
       "      <td>2013-02-09</td>\n",
       "      <td>LPA</td>\n",
       "    </tr>\n",
       "  </tbody>\n",
       "</table>\n",
       "</div>"
      ],
      "text/plain": [
       "             Date Destination\n",
       "93652  2013-04-04         BOS\n",
       "54815  2013-02-24         BWK\n",
       "39240  2013-02-09         GNB\n",
       "25823  2013-01-26         SJO\n",
       "39129  2013-02-09         LPA"
      ]
     },
     "execution_count": 62,
     "metadata": {},
     "output_type": "execute_result"
    }
   ],
   "source": [
    "searches = pd.read_csv('searches.csv.bz2', sep='^', usecols = ['Date', 'Destination'],\n",
    "                       nrows = 100000)\n",
    "print(searches.info())\n",
    "searches.sample(5)\n"
   ]
  },
  {
   "cell_type": "markdown",
   "metadata": {},
   "source": [
    "### 3. Clean the Data"
   ]
  },
  {
   "cell_type": "code",
   "execution_count": 63,
   "metadata": {},
   "outputs": [],
   "source": [
    "searches = searches.dropna()"
   ]
  },
  {
   "cell_type": "markdown",
   "metadata": {},
   "source": [
    "### 4. Make an action plan"
   ]
  },
  {
   "cell_type": "markdown",
   "metadata": {},
   "source": [
    "1. Filter the 3 airports (Malaga, Madrid, Barcelona)\n",
    "2. Format the Date\n",
    "3. Group by month and destiny\n",
    "4. Plot"
   ]
  },
  {
   "cell_type": "markdown",
   "metadata": {},
   "source": [
    "#### 1. Filter the 3 airports"
   ]
  },
  {
   "cell_type": "code",
   "execution_count": 64,
   "metadata": {},
   "outputs": [],
   "source": [
    "searches = searches[searches.Destination.isin(['MAD', 'BCN', 'AGP'])]"
   ]
  },
  {
   "cell_type": "markdown",
   "metadata": {},
   "source": [
    "#### 2. Fomat the Date"
   ]
  },
  {
   "cell_type": "code",
   "execution_count": 65,
   "metadata": {
    "scrolled": true
   },
   "outputs": [
    {
     "data": {
      "text/html": [
       "<div>\n",
       "<style scoped>\n",
       "    .dataframe tbody tr th:only-of-type {\n",
       "        vertical-align: middle;\n",
       "    }\n",
       "\n",
       "    .dataframe tbody tr th {\n",
       "        vertical-align: top;\n",
       "    }\n",
       "\n",
       "    .dataframe thead th {\n",
       "        text-align: right;\n",
       "    }\n",
       "</style>\n",
       "<table border=\"1\" class=\"dataframe\">\n",
       "  <thead>\n",
       "    <tr style=\"text-align: right;\">\n",
       "      <th></th>\n",
       "      <th>Date</th>\n",
       "      <th>Destination</th>\n",
       "      <th>Plot_Date</th>\n",
       "    </tr>\n",
       "  </thead>\n",
       "  <tbody>\n",
       "    <tr>\n",
       "      <td>4</td>\n",
       "      <td>2013-01-01</td>\n",
       "      <td>MAD</td>\n",
       "      <td>2013-01</td>\n",
       "    </tr>\n",
       "    <tr>\n",
       "      <td>93</td>\n",
       "      <td>2013-01-01</td>\n",
       "      <td>AGP</td>\n",
       "      <td>2013-01</td>\n",
       "    </tr>\n",
       "    <tr>\n",
       "      <td>113</td>\n",
       "      <td>2013-01-01</td>\n",
       "      <td>BCN</td>\n",
       "      <td>2013-01</td>\n",
       "    </tr>\n",
       "    <tr>\n",
       "      <td>147</td>\n",
       "      <td>2013-01-01</td>\n",
       "      <td>AGP</td>\n",
       "      <td>2013-01</td>\n",
       "    </tr>\n",
       "    <tr>\n",
       "      <td>151</td>\n",
       "      <td>2013-01-01</td>\n",
       "      <td>MAD</td>\n",
       "      <td>2013-01</td>\n",
       "    </tr>\n",
       "  </tbody>\n",
       "</table>\n",
       "</div>"
      ],
      "text/plain": [
       "           Date Destination Plot_Date\n",
       "4    2013-01-01         MAD   2013-01\n",
       "93   2013-01-01         AGP   2013-01\n",
       "113  2013-01-01         BCN   2013-01\n",
       "147  2013-01-01         AGP   2013-01\n",
       "151  2013-01-01         MAD   2013-01"
      ]
     },
     "execution_count": 65,
     "metadata": {},
     "output_type": "execute_result"
    }
   ],
   "source": [
    "searches['Plot_Date'] = searches.Date.str[0:7]\n",
    "searches.head()"
   ]
  },
  {
   "cell_type": "markdown",
   "metadata": {},
   "source": [
    "#### 3. Group by month and destiny and count"
   ]
  },
  {
   "cell_type": "code",
   "execution_count": 70,
   "metadata": {},
   "outputs": [
    {
     "data": {
      "text/html": [
       "<div>\n",
       "<style scoped>\n",
       "    .dataframe tbody tr th:only-of-type {\n",
       "        vertical-align: middle;\n",
       "    }\n",
       "\n",
       "    .dataframe tbody tr th {\n",
       "        vertical-align: top;\n",
       "    }\n",
       "\n",
       "    .dataframe thead th {\n",
       "        text-align: right;\n",
       "    }\n",
       "</style>\n",
       "<table border=\"1\" class=\"dataframe\">\n",
       "  <thead>\n",
       "    <tr style=\"text-align: right;\">\n",
       "      <th></th>\n",
       "      <th>Plot_Date</th>\n",
       "      <th>Destination</th>\n",
       "      <th>Date</th>\n",
       "    </tr>\n",
       "  </thead>\n",
       "  <tbody>\n",
       "    <tr>\n",
       "      <td>0</td>\n",
       "      <td>2013-01</td>\n",
       "      <td>AGP</td>\n",
       "      <td>169</td>\n",
       "    </tr>\n",
       "    <tr>\n",
       "      <td>1</td>\n",
       "      <td>2013-01</td>\n",
       "      <td>BCN</td>\n",
       "      <td>517</td>\n",
       "    </tr>\n",
       "    <tr>\n",
       "      <td>2</td>\n",
       "      <td>2013-01</td>\n",
       "      <td>MAD</td>\n",
       "      <td>425</td>\n",
       "    </tr>\n",
       "    <tr>\n",
       "      <td>3</td>\n",
       "      <td>2013-02</td>\n",
       "      <td>AGP</td>\n",
       "      <td>147</td>\n",
       "    </tr>\n",
       "    <tr>\n",
       "      <td>4</td>\n",
       "      <td>2013-02</td>\n",
       "      <td>BCN</td>\n",
       "      <td>497</td>\n",
       "    </tr>\n",
       "  </tbody>\n",
       "</table>\n",
       "</div>"
      ],
      "text/plain": [
       "  Plot_Date Destination  Date\n",
       "0   2013-01         AGP   169\n",
       "1   2013-01         BCN   517\n",
       "2   2013-01         MAD   425\n",
       "3   2013-02         AGP   147\n",
       "4   2013-02         BCN   497"
      ]
     },
     "execution_count": 70,
     "metadata": {},
     "output_type": "execute_result"
    }
   ],
   "source": [
    "searches_grouped = searches.groupby(['Plot_Date', 'Destination']).count()\n",
    "searches_grouped = searches_grouped.reset_index()\n",
    "searches_grouped.head()"
   ]
  },
  {
   "cell_type": "markdown",
   "metadata": {},
   "source": [
    "#### 4. Plot"
   ]
  },
  {
   "cell_type": "code",
   "execution_count": 72,
   "metadata": {},
   "outputs": [],
   "source": [
    "searches_to_plot = searches_grouped.pivot('Plot_Date', 'Destination', 'Date')"
   ]
  },
  {
   "cell_type": "code",
   "execution_count": 77,
   "metadata": {},
   "outputs": [
    {
     "data": {
      "image/png": "[encoded data removed]",
      "text/plain": [
       "<Figure size 432x288 with 1 Axes>"
      ]
     },
     "metadata": {
      "needs_background": "light"
     },
     "output_type": "display_data"
    }
   ],
   "source": [
    "plot = searches_to_plot.plot(kind='bar')\n",
    "plot;"
   ]
  },
  {
   "cell_type": "markdown",
   "metadata": {},
   "source": [
    "### 5. Adjust the code to work with Big data"
   ]
  },
  {
   "cell_type": "markdown",
   "metadata": {},
   "source": [
    "#### Final Solution"
   ]
  },
  {
   "cell_type": "code",
   "execution_count": 86,
   "metadata": {
    "scrolled": true
   },
   "outputs": [
    {
     "name": "stdout",
     "output_type": "stream",
     "text": [
      "0\n",
      "1\n",
      "2\n",
      "3\n",
      "4\n",
      "5\n",
      "6\n",
      "7\n",
      "8\n",
      "9\n",
      "10\n"
     ]
    },
    {
     "data": {
      "text/plain": [
       "<Figure size 432x288 with 0 Axes>"
      ]
     },
     "metadata": {},
     "output_type": "display_data"
    },
    {
     "data": {
      "image/png": "[encoded data removed]",
      "text/plain": [
       "<Figure size 1152x720 with 1 Axes>"
      ]
     },
     "metadata": {},
     "output_type": "display_data"
    },
    {
     "name": "stdout",
     "output_type": "stream",
     "text": [
      "CPU times: user 3min 32s, sys: 2.73 s, total: 3min 35s\n",
      "Wall time: 3min 34s\n"
     ]
    }
   ],
   "source": [
    "%%time\n",
    "import pandas as pd\n",
    "import numpy as np\n",
    "import matplotlib.pyplot as plt\n",
    "import seaborn as sns\n",
    "%matplotlib inline\n",
    "\n",
    "# Reading the file\n",
    "searches_df = pd.read_csv('searches.csv.bz2', sep='^', usecols=['Date', 'Destination'],\n",
    "               chunksize=2000000)\n",
    "\n",
    "# Working with chuncks\n",
    "all_chunks = pd.DataFrame()\n",
    "\n",
    "for i, chunk in enumerate(searches_df):\n",
    "    print (i)\n",
    "    searches = chunk.dropna()\n",
    "    # Filtering Madrid, Barcelona and Malaga airports\n",
    "    searches = searches[searches.Destination.isin(['MAD', 'BCN', 'AGP'])]\n",
    "    # Formating the dates\n",
    "    searches['Plot_Date'] = searches.Date.str[0:7]\n",
    "    # Grouping by destination and month\n",
    "    searches_grouped = searches.groupby(['Plot_Date', 'Destination']).count()\n",
    "    searches_grouped = searches_grouped.reset_index()\n",
    "    # Grouping all the chunks\n",
    "    all_chunks = all_chunks.append(searches_grouped)\n",
    "\n",
    "    \n",
    "all_chunks_grouped = all_chunks.groupby(['Plot_Date', 'Destination']).sum().reset_index()\n",
    "# Data ready to plot\n",
    "to_plot = all_chunks_grouped.pivot('Plot_Date', 'Destination', 'Date')\n",
    "\n",
    "# Seting up the plot: \n",
    "sns.set_style(\"darkgrid\")\n",
    "\n",
    "plt.tight_layout()\n",
    "to_plot.plot(kind='bar', figsize=[16, 10]) # Barplot type\n",
    "plt.legend(loc='best', prop={'size':18})\n",
    "plt.xlabel(\"Month\", fontsize=20, fontstyle='oblique')\n",
    "plt.ylabel(\"Searches\", fontsize=20, fontstyle='oblique')\n",
    "plt.xticks(np.arange(12)+0.2, to_plot.index, rotation=40, fontsize=12, ha='right')\n",
    "plt.title('Searches by arriving airport in 2013', fontsize=26, fontweight='bold')\n",
    "\n",
    "plt.show();"
   ]
  },
  {
   "cell_type": "markdown",
   "metadata": {},
   "source": [
    "### 4. Match searches with bookings\n",
    "\n",
    "For every search in the searches file, find out whether the search ended up in a booking or not (using the info in the bookings file). For instance, search and booking origin and destination should match. \n",
    "For the bookings file, origin and destination are the columns dep_port and arr_port, respectively. \n",
    "Generate a CSV file with the search data, and an additional field, containing 1 if the search ended up in a booking, and 0 otherwise.\n"
   ]
  },
  {
   "cell_type": "markdown",
   "metadata": {},
   "source": [
    "1. Get familiar with data\n",
    "2. Make action plan\n",
    "3. Adjust the code to work with Big data"
   ]
  },
  {
   "cell_type": "markdown",
   "metadata": {},
   "source": [
    "### 1. Get Familiar with the Data"
   ]
  },
  {
   "cell_type": "code",
   "execution_count": 87,
   "metadata": {},
   "outputs": [
    {
     "name": "stdout",
     "output_type": "stream",
     "text": [
      "Date^Time^TxnCode^OfficeID^Country^Origin^Destination^RoundTrip^NbSegments^Seg1Departure^Seg1Arrival^Seg1Date^Seg1Carrier^Seg1BookingCode^Seg2Departure^Seg2Arrival^Seg2Date^Seg2Carrier^Seg2BookingCode^Seg3Departure^Seg3Arrival^Seg3Date^Seg3Carrier^Seg3BookingCode^Seg4Departure^Seg4Arrival^Seg4Date^Seg4Carrier^Seg4BookingCode^Seg5Departure^Seg5Arrival^Seg5Date^Seg5Carrier^Seg5BookingCode^Seg6Departure^Seg6Arrival^Seg6Date^Seg6Carrier^Seg6BookingCode^From^IsPublishedForNeg^IsFromInternet^IsFromVista^TerminalID^InternetOffice\r\n",
      "2013-01-01^20:25:57^MPT^624d8c3ac0b3a7ca03e3c167e0f48327^DE^TXL^AUH^1^2^TXL^AUH^2013-01-26^D2^^AUH^TXL^2013-02-02^D2^^^^^^^^^^^^^^^^^^^^^^1ASIWS^0^0^0^d41d8cd98f00b204e9800998ecf8427e^FRA\r\n",
      "\r\n",
      "bzcat: I/O or other error, bailing out.  Possible reason follows.\r\n",
      "bzcat: Broken pipe\r\n",
      "\tInput file = ./searches.csv.bz2, output file = (stdout)\r\n"
     ]
    }
   ],
   "source": [
    "! bzcat ./searches.csv.bz2 | head -2"
   ]
  },
  {
   "cell_type": "code",
   "execution_count": 88,
   "metadata": {},
   "outputs": [
    {
     "name": "stdout",
     "output_type": "stream",
     "text": [
      "act_date           ^source^pos_ctry^pos_iata^pos_oid  ^rloc          ^cre_date           ^duration^distance^dep_port^dep_city^dep_ctry^arr_port^arr_city^arr_ctry^lst_port^lst_city^lst_ctry^brd_port^brd_city^brd_ctry^off_port^off_city^off_ctry^mkt_port^mkt_city^mkt_ctry^intl^route          ^carrier^bkg_class^cab_class^brd_time           ^off_time           ^pax^year^month^oid      \r\n",
      "2013-03-05 00:00:00^1A    ^DE      ^a68dd7ae953c8acfb187a1af2dcbe123^1a11ae49fcbf545fd2afc1a24d88d2b7^ea65900e72d71f4626378e2ebd298267^2013-02-22 00:00:00^1708^0^ZRH     ^ZRH     ^CH      ^LHR     ^LON     ^GB      ^ZRH     ^ZRH     ^CH      ^LHR     ^LON     ^GB      ^ZRH     ^ZRH     ^CH      ^LHRZRH  ^LONZRH  ^CHGB    ^1^LHRZRH         ^VI^T        ^Y        ^2013-03-07 08:50:00^2013-03-07 11:33:37^-1^2013^3^NULL     \r\n",
      "\r\n",
      "bzcat: I/O or other error, bailing out.  Possible reason follows.\r\n",
      "bzcat: Broken pipe\r\n",
      "\tInput file = ./bookings.csv.bz2, output file = (stdout)\r\n"
     ]
    }
   ],
   "source": [
    "! bzcat ./bookings.csv.bz2 | head -2"
   ]
  },
  {
   "cell_type": "markdown",
   "metadata": {},
   "source": [
    "### 2. Action plan\n",
    "\n",
    "1. Remove duplicates from both files and read 3 columns from Bookings and all from Search\n",
    "2. Remove white spaces from bookings and format the date in Bookings\n",
    "3. Create column \"booked\" with 1 in Bookings table and remove duplicates.\n",
    "4. Merge on 3 columns\n",
    "5. Fill \"booked\" of merged table with 0"
   ]
  },
  {
   "cell_type": "markdown",
   "metadata": {},
   "source": [
    "### Prepare the Data for processing"
   ]
  },
  {
   "cell_type": "markdown",
   "metadata": {},
   "source": [
    "#### 1. Check for duplicated data"
   ]
  },
  {
   "cell_type": "markdown",
   "metadata": {},
   "source": [
    "#### Booking\n",
    "\n",
    "Read only the cre_date, dep_port, arr_port columns"
   ]
  },
  {
   "cell_type": "code",
   "execution_count": 90,
   "metadata": {},
   "outputs": [
    {
     "name": "stdout",
     "output_type": "stream",
     "text": [
      "1000000 1000003\n",
      "2000000 1000003\n",
      "3000000 1000003\n",
      "4000000 1000003\n",
      "5000000 1000003\n",
      "6000000 1000003\n",
      "7000000 1000003\n",
      "8000000 1000003\n",
      "9000000 1000003\n",
      "10000000 1000003\n",
      "11000000 1000003\n",
      "CPU times: user 3min 29s, sys: 6.79 s, total: 3min 36s\n",
      "Wall time: 3min 35s\n"
     ]
    }
   ],
   "source": [
    "%%time\n",
    "booking_df = pd.read_csv('./bookings.csv.bz2', sep=\"^\", chunksize=1000000, \n",
    "                         usecols=['cre_date           ','dep_port', 'arr_port'],\n",
    "                         low_memory=False, dtype=str)\n",
    "\n",
    "# Working with chuncks and dropping the duplicates\n",
    "all_chunks_bookings = pd.DataFrame()\n",
    "\n",
    "for i, chunk in enumerate(booking_df):\n",
    "    all_chunks_bookings = all_chunks_bookings.append(chunk)\n",
    "    all_chunks_bookings.drop_duplicates(inplace=True)\n",
    "    print((i+1)*1000000, len(all_chunks))"
   ]
  },
  {
   "cell_type": "markdown",
   "metadata": {},
   "source": [
    "#### Searches\n",
    "\n",
    "Read all columns"
   ]
  },
  {
   "cell_type": "code",
   "execution_count": 91,
   "metadata": {},
   "outputs": [
    {
     "name": "stdout",
     "output_type": "stream",
     "text": [
      "1000000 358999\n",
      "2000000 359003\n",
      "3000000 359003\n",
      "4000000 359003\n",
      "5000000 359003\n",
      "6000000 359003\n",
      "7000000 359003\n",
      "8000000 359003\n",
      "9000000 359003\n",
      "10000000 359003\n",
      "11000000 359003\n",
      "12000000 359003\n",
      "13000000 359003\n",
      "14000000 359003\n",
      "15000000 359003\n",
      "16000000 359003\n",
      "17000000 359003\n",
      "18000000 359003\n",
      "19000000 359003\n",
      "20000000 359003\n",
      "21000000 359004\n",
      "CPU times: user 8min 12s, sys: 33.1 s, total: 8min 45s\n",
      "Wall time: 8min 28s\n"
     ]
    }
   ],
   "source": [
    "%%time\n",
    "searches_df = pd.read_csv('./searches.csv.bz2', sep=\"^\", chunksize=1000000,\n",
    "                         low_memory=False, dtype=str)\n",
    "\n",
    "# Working with chuncks and dropping the duplicates\n",
    "all_chunks_searches = pd.DataFrame()\n",
    "\n",
    "for i, chunk in enumerate(searches_df):\n",
    "    all_chunks_searches = all_chunks_searches.append(chunk)\n",
    "    all_chunks_searches.drop_duplicates(inplace=True)\n",
    "    print((i+1)*1000000, len(all_chunks_searches))"
   ]
  },
  {
   "cell_type": "markdown",
   "metadata": {},
   "source": [
    "#### 2. Remove white spaces from bookings and format the date in Bookings"
   ]
  },
  {
   "cell_type": "code",
   "execution_count": 93,
   "metadata": {},
   "outputs": [
    {
     "data": {
      "text/plain": [
       "Index(['cre_date           ', 'dep_port', 'arr_port'], dtype='object')"
      ]
     },
     "execution_count": 93,
     "metadata": {},
     "output_type": "execute_result"
    }
   ],
   "source": [
    "all_chunks_bookings.columns"
   ]
  },
  {
   "cell_type": "code",
   "execution_count": 99,
   "metadata": {},
   "outputs": [
    {
     "data": {
      "text/html": [
       "<div>\n",
       "<style scoped>\n",
       "    .dataframe tbody tr th:only-of-type {\n",
       "        vertical-align: middle;\n",
       "    }\n",
       "\n",
       "    .dataframe tbody tr th {\n",
       "        vertical-align: top;\n",
       "    }\n",
       "\n",
       "    .dataframe thead th {\n",
       "        text-align: right;\n",
       "    }\n",
       "</style>\n",
       "<table border=\"1\" class=\"dataframe\">\n",
       "  <thead>\n",
       "    <tr style=\"text-align: right;\">\n",
       "      <th></th>\n",
       "      <th>cre_date</th>\n",
       "      <th>dep_port</th>\n",
       "      <th>arr_port</th>\n",
       "      <th>booked</th>\n",
       "    </tr>\n",
       "  </thead>\n",
       "  <tbody>\n",
       "    <tr>\n",
       "      <td>0</td>\n",
       "      <td>2013-02-22</td>\n",
       "      <td>ZRH</td>\n",
       "      <td>LHR</td>\n",
       "      <td>1</td>\n",
       "    </tr>\n",
       "    <tr>\n",
       "      <td>1</td>\n",
       "      <td>2013-03-26</td>\n",
       "      <td>SAL</td>\n",
       "      <td>CLT</td>\n",
       "      <td>1</td>\n",
       "    </tr>\n",
       "    <tr>\n",
       "      <td>3</td>\n",
       "      <td>2013-03-26</td>\n",
       "      <td>AKL</td>\n",
       "      <td>SVO</td>\n",
       "      <td>1</td>\n",
       "    </tr>\n",
       "    <tr>\n",
       "      <td>5</td>\n",
       "      <td>2013-03-20</td>\n",
       "      <td>DEN</td>\n",
       "      <td>LGA</td>\n",
       "      <td>1</td>\n",
       "    </tr>\n",
       "    <tr>\n",
       "      <td>7</td>\n",
       "      <td>2013-03-25</td>\n",
       "      <td>NRT</td>\n",
       "      <td>SIN</td>\n",
       "      <td>1</td>\n",
       "    </tr>\n",
       "  </tbody>\n",
       "</table>\n",
       "</div>"
      ],
      "text/plain": [
       "     cre_date dep_port arr_port  booked\n",
       "0  2013-02-22      ZRH      LHR       1\n",
       "1  2013-03-26      SAL      CLT       1\n",
       "3  2013-03-26      AKL      SVO       1\n",
       "5  2013-03-20      DEN      LGA       1\n",
       "7  2013-03-25      NRT      SIN       1"
      ]
     },
     "execution_count": 99,
     "metadata": {},
     "output_type": "execute_result"
    }
   ],
   "source": [
    "all_chunks_bookings.columns = all_chunks_bookings.columns.str.strip()\n",
    "all_chunks_bookings.dep_port = all_chunks_bookings.dep_port.str.strip()\n",
    "all_chunks_bookings.arr_port = all_chunks_bookings.arr_port.str.strip()\n",
    "all_chunks_bookings.cre_date = all_chunks_bookings.cre_date.str[0:10]"
   ]
  },
  {
   "cell_type": "markdown",
   "metadata": {},
   "source": [
    "#### 3. Create column \"booked\" with 1 in Bookings table and remove duplicates."
   ]
  },
  {
   "cell_type": "code",
   "execution_count": null,
   "metadata": {},
   "outputs": [],
   "source": [
    "all_chunks_bookings['booked'] = 1\n",
    "all_chunks_bookings.drop_duplicates(inplace=True)\n",
    "all_chunks_bookings.head()"
   ]
  },
  {
   "cell_type": "markdown",
   "metadata": {},
   "source": [
    "#### 4. Merge on 3 columns"
   ]
  },
  {
   "cell_type": "code",
   "execution_count": 100,
   "metadata": {},
   "outputs": [],
   "source": [
    "merged = all_chunks_searches.merge(all_chunks_bookings,\n",
    "           how='left',\n",
    "           left_on=['Date', 'Origin', 'Destination'],\n",
    "           right_on=['cre_date', 'dep_port', 'arr_port'])"
   ]
  },
  {
   "cell_type": "code",
   "execution_count": 101,
   "metadata": {},
   "outputs": [],
   "source": [
    "# Dropping non usefull collumns\n",
    "merged.drop(['cre_date', 'dep_port', 'arr_port'], axis=1, inplace=True)"
   ]
  },
  {
   "cell_type": "code",
   "execution_count": 102,
   "metadata": {},
   "outputs": [
    {
     "data": {
      "text/html": [
       "<div>\n",
       "<style scoped>\n",
       "    .dataframe tbody tr th:only-of-type {\n",
       "        vertical-align: middle;\n",
       "    }\n",
       "\n",
       "    .dataframe tbody tr th {\n",
       "        vertical-align: top;\n",
       "    }\n",
       "\n",
       "    .dataframe thead th {\n",
       "        text-align: right;\n",
       "    }\n",
       "</style>\n",
       "<table border=\"1\" class=\"dataframe\">\n",
       "  <thead>\n",
       "    <tr style=\"text-align: right;\">\n",
       "      <th></th>\n",
       "      <th>Date</th>\n",
       "      <th>Time</th>\n",
       "      <th>TxnCode</th>\n",
       "      <th>OfficeID</th>\n",
       "      <th>Country</th>\n",
       "      <th>Origin</th>\n",
       "      <th>Destination</th>\n",
       "      <th>RoundTrip</th>\n",
       "      <th>NbSegments</th>\n",
       "      <th>Seg1Departure</th>\n",
       "      <th>Seg1Arrival</th>\n",
       "      <th>Seg1Date</th>\n",
       "      <th>Seg1Carrier</th>\n",
       "      <th>Seg1BookingCode</th>\n",
       "      <th>Seg2Departure</th>\n",
       "      <th>Seg2Arrival</th>\n",
       "      <th>Seg2Date</th>\n",
       "      <th>Seg2Carrier</th>\n",
       "      <th>Seg2BookingCode</th>\n",
       "      <th>Seg3Departure</th>\n",
       "      <th>Seg3Arrival</th>\n",
       "      <th>Seg3Date</th>\n",
       "      <th>Seg3Carrier</th>\n",
       "      <th>Seg3BookingCode</th>\n",
       "      <th>Seg4Departure</th>\n",
       "      <th>Seg4Arrival</th>\n",
       "      <th>Seg4Date</th>\n",
       "      <th>Seg4Carrier</th>\n",
       "      <th>Seg4BookingCode</th>\n",
       "      <th>Seg5Departure</th>\n",
       "      <th>Seg5Arrival</th>\n",
       "      <th>Seg5Date</th>\n",
       "      <th>Seg5Carrier</th>\n",
       "      <th>Seg5BookingCode</th>\n",
       "      <th>Seg6Departure</th>\n",
       "      <th>Seg6Arrival</th>\n",
       "      <th>Seg6Date</th>\n",
       "      <th>Seg6Carrier</th>\n",
       "      <th>Seg6BookingCode</th>\n",
       "      <th>From</th>\n",
       "      <th>IsPublishedForNeg</th>\n",
       "      <th>IsFromInternet</th>\n",
       "      <th>IsFromVista</th>\n",
       "      <th>TerminalID</th>\n",
       "      <th>InternetOffice</th>\n",
       "      <th>booked</th>\n",
       "    </tr>\n",
       "  </thead>\n",
       "  <tbody>\n",
       "    <tr>\n",
       "      <td>27</td>\n",
       "      <td>2013-01-01</td>\n",
       "      <td>18:33:28</td>\n",
       "      <td>CCP</td>\n",
       "      <td>3565e31495ecfd46fa018339d20382b1</td>\n",
       "      <td>SA</td>\n",
       "      <td>RUH</td>\n",
       "      <td>JED</td>\n",
       "      <td>0</td>\n",
       "      <td>1</td>\n",
       "      <td>RUH</td>\n",
       "      <td>JED</td>\n",
       "      <td>2013-01-04</td>\n",
       "      <td>KP</td>\n",
       "      <td>NaN</td>\n",
       "      <td>NaN</td>\n",
       "      <td>NaN</td>\n",
       "      <td>NaN</td>\n",
       "      <td>NaN</td>\n",
       "      <td>NaN</td>\n",
       "      <td>NaN</td>\n",
       "      <td>NaN</td>\n",
       "      <td>NaN</td>\n",
       "      <td>NaN</td>\n",
       "      <td>NaN</td>\n",
       "      <td>NaN</td>\n",
       "      <td>NaN</td>\n",
       "      <td>NaN</td>\n",
       "      <td>NaN</td>\n",
       "      <td>NaN</td>\n",
       "      <td>NaN</td>\n",
       "      <td>NaN</td>\n",
       "      <td>NaN</td>\n",
       "      <td>NaN</td>\n",
       "      <td>NaN</td>\n",
       "      <td>NaN</td>\n",
       "      <td>NaN</td>\n",
       "      <td>NaN</td>\n",
       "      <td>NaN</td>\n",
       "      <td>NaN</td>\n",
       "      <td>1ASIWS</td>\n",
       "      <td>0</td>\n",
       "      <td>0</td>\n",
       "      <td>0</td>\n",
       "      <td>d41d8cd98f00b204e9800998ecf8427e</td>\n",
       "      <td>JED</td>\n",
       "      <td>1.0</td>\n",
       "    </tr>\n",
       "    <tr>\n",
       "      <td>40</td>\n",
       "      <td>2013-01-01</td>\n",
       "      <td>06:36:57</td>\n",
       "      <td>FFP</td>\n",
       "      <td>86f167b84e77346849f9439ae87c02a6</td>\n",
       "      <td>SA</td>\n",
       "      <td>DMM</td>\n",
       "      <td>MNL</td>\n",
       "      <td>1</td>\n",
       "      <td>2</td>\n",
       "      <td>DMM</td>\n",
       "      <td>MNL</td>\n",
       "      <td>2013-06-01</td>\n",
       "      <td>OJ</td>\n",
       "      <td>NaN</td>\n",
       "      <td>MNL</td>\n",
       "      <td>DMM</td>\n",
       "      <td>2013-06-30</td>\n",
       "      <td>OJ</td>\n",
       "      <td>NaN</td>\n",
       "      <td>NaN</td>\n",
       "      <td>NaN</td>\n",
       "      <td>NaN</td>\n",
       "      <td>NaN</td>\n",
       "      <td>NaN</td>\n",
       "      <td>NaN</td>\n",
       "      <td>NaN</td>\n",
       "      <td>NaN</td>\n",
       "      <td>NaN</td>\n",
       "      <td>NaN</td>\n",
       "      <td>NaN</td>\n",
       "      <td>NaN</td>\n",
       "      <td>NaN</td>\n",
       "      <td>NaN</td>\n",
       "      <td>NaN</td>\n",
       "      <td>NaN</td>\n",
       "      <td>NaN</td>\n",
       "      <td>NaN</td>\n",
       "      <td>NaN</td>\n",
       "      <td>NaN</td>\n",
       "      <td>1ASIWS</td>\n",
       "      <td>0</td>\n",
       "      <td>0</td>\n",
       "      <td>0</td>\n",
       "      <td>d41d8cd98f00b204e9800998ecf8427e</td>\n",
       "      <td>JED</td>\n",
       "      <td>1.0</td>\n",
       "    </tr>\n",
       "    <tr>\n",
       "      <td>59</td>\n",
       "      <td>2013-01-01</td>\n",
       "      <td>07:00:38</td>\n",
       "      <td>FQD</td>\n",
       "      <td>e8741eaf2fa2f71f931475d18fa72096</td>\n",
       "      <td>US</td>\n",
       "      <td>ATL</td>\n",
       "      <td>MIA</td>\n",
       "      <td>0</td>\n",
       "      <td>1</td>\n",
       "      <td>ATL</td>\n",
       "      <td>MIA</td>\n",
       "      <td>2013-01-10</td>\n",
       "      <td>NV</td>\n",
       "      <td>NaN</td>\n",
       "      <td>NaN</td>\n",
       "      <td>NaN</td>\n",
       "      <td>NaN</td>\n",
       "      <td>NaN</td>\n",
       "      <td>NaN</td>\n",
       "      <td>NaN</td>\n",
       "      <td>NaN</td>\n",
       "      <td>NaN</td>\n",
       "      <td>NaN</td>\n",
       "      <td>NaN</td>\n",
       "      <td>NaN</td>\n",
       "      <td>NaN</td>\n",
       "      <td>NaN</td>\n",
       "      <td>NaN</td>\n",
       "      <td>NaN</td>\n",
       "      <td>NaN</td>\n",
       "      <td>NaN</td>\n",
       "      <td>NaN</td>\n",
       "      <td>NaN</td>\n",
       "      <td>NaN</td>\n",
       "      <td>NaN</td>\n",
       "      <td>NaN</td>\n",
       "      <td>NaN</td>\n",
       "      <td>NaN</td>\n",
       "      <td>NaN</td>\n",
       "      <td>1ASI</td>\n",
       "      <td>0</td>\n",
       "      <td>0</td>\n",
       "      <td>0</td>\n",
       "      <td>d41d8cd98f00b204e9800998ecf8427e</td>\n",
       "      <td>SEA</td>\n",
       "      <td>1.0</td>\n",
       "    </tr>\n",
       "    <tr>\n",
       "      <td>134</td>\n",
       "      <td>2013-01-01</td>\n",
       "      <td>23:30:44</td>\n",
       "      <td>MPT</td>\n",
       "      <td>5215502d9524c3183f3839b0d9a5e4f9</td>\n",
       "      <td>AU</td>\n",
       "      <td>MEL</td>\n",
       "      <td>SYD</td>\n",
       "      <td>0</td>\n",
       "      <td>1</td>\n",
       "      <td>MEL</td>\n",
       "      <td>SYD</td>\n",
       "      <td>2013-01-31</td>\n",
       "      <td>NaN</td>\n",
       "      <td>NaN</td>\n",
       "      <td>NaN</td>\n",
       "      <td>NaN</td>\n",
       "      <td>NaN</td>\n",
       "      <td>NaN</td>\n",
       "      <td>NaN</td>\n",
       "      <td>NaN</td>\n",
       "      <td>NaN</td>\n",
       "      <td>NaN</td>\n",
       "      <td>NaN</td>\n",
       "      <td>NaN</td>\n",
       "      <td>NaN</td>\n",
       "      <td>NaN</td>\n",
       "      <td>NaN</td>\n",
       "      <td>NaN</td>\n",
       "      <td>NaN</td>\n",
       "      <td>NaN</td>\n",
       "      <td>NaN</td>\n",
       "      <td>NaN</td>\n",
       "      <td>NaN</td>\n",
       "      <td>NaN</td>\n",
       "      <td>NaN</td>\n",
       "      <td>NaN</td>\n",
       "      <td>NaN</td>\n",
       "      <td>NaN</td>\n",
       "      <td>NaN</td>\n",
       "      <td>1ASIWS</td>\n",
       "      <td>0</td>\n",
       "      <td>0</td>\n",
       "      <td>0</td>\n",
       "      <td>d41d8cd98f00b204e9800998ecf8427e</td>\n",
       "      <td>SYD</td>\n",
       "      <td>1.0</td>\n",
       "    </tr>\n",
       "    <tr>\n",
       "      <td>172</td>\n",
       "      <td>2013-01-01</td>\n",
       "      <td>18:34:27</td>\n",
       "      <td>MPT</td>\n",
       "      <td>fd4afff0035bec8f8e305d38804c33f6</td>\n",
       "      <td>IN</td>\n",
       "      <td>BOM</td>\n",
       "      <td>JED</td>\n",
       "      <td>1</td>\n",
       "      <td>2</td>\n",
       "      <td>BOM</td>\n",
       "      <td>JED</td>\n",
       "      <td>2013-01-26</td>\n",
       "      <td>NaN</td>\n",
       "      <td>NaN</td>\n",
       "      <td>JED</td>\n",
       "      <td>BOM</td>\n",
       "      <td>2013-01-29</td>\n",
       "      <td>NaN</td>\n",
       "      <td>NaN</td>\n",
       "      <td>NaN</td>\n",
       "      <td>NaN</td>\n",
       "      <td>NaN</td>\n",
       "      <td>NaN</td>\n",
       "      <td>NaN</td>\n",
       "      <td>NaN</td>\n",
       "      <td>NaN</td>\n",
       "      <td>NaN</td>\n",
       "      <td>NaN</td>\n",
       "      <td>NaN</td>\n",
       "      <td>NaN</td>\n",
       "      <td>NaN</td>\n",
       "      <td>NaN</td>\n",
       "      <td>NaN</td>\n",
       "      <td>NaN</td>\n",
       "      <td>NaN</td>\n",
       "      <td>NaN</td>\n",
       "      <td>NaN</td>\n",
       "      <td>NaN</td>\n",
       "      <td>NaN</td>\n",
       "      <td>1ASI</td>\n",
       "      <td>0</td>\n",
       "      <td>0</td>\n",
       "      <td>0</td>\n",
       "      <td>d41d8cd98f00b204e9800998ecf8427e</td>\n",
       "      <td>DEL</td>\n",
       "      <td>1.0</td>\n",
       "    </tr>\n",
       "  </tbody>\n",
       "</table>\n",
       "</div>"
      ],
      "text/plain": [
       "           Date      Time TxnCode                          OfficeID Country  \\\n",
       "27   2013-01-01  18:33:28     CCP  3565e31495ecfd46fa018339d20382b1      SA   \n",
       "40   2013-01-01  06:36:57     FFP  86f167b84e77346849f9439ae87c02a6      SA   \n",
       "59   2013-01-01  07:00:38     FQD  e8741eaf2fa2f71f931475d18fa72096      US   \n",
       "134  2013-01-01  23:30:44     MPT  5215502d9524c3183f3839b0d9a5e4f9      AU   \n",
       "172  2013-01-01  18:34:27     MPT  fd4afff0035bec8f8e305d38804c33f6      IN   \n",
       "\n",
       "    Origin Destination RoundTrip NbSegments Seg1Departure Seg1Arrival  \\\n",
       "27     RUH         JED         0          1           RUH         JED   \n",
       "40     DMM         MNL         1          2           DMM         MNL   \n",
       "59     ATL         MIA         0          1           ATL         MIA   \n",
       "134    MEL         SYD         0          1           MEL         SYD   \n",
       "172    BOM         JED         1          2           BOM         JED   \n",
       "\n",
       "       Seg1Date Seg1Carrier Seg1BookingCode Seg2Departure Seg2Arrival  \\\n",
       "27   2013-01-04          KP             NaN           NaN         NaN   \n",
       "40   2013-06-01          OJ             NaN           MNL         DMM   \n",
       "59   2013-01-10          NV             NaN           NaN         NaN   \n",
       "134  2013-01-31         NaN             NaN           NaN         NaN   \n",
       "172  2013-01-26         NaN             NaN           JED         BOM   \n",
       "\n",
       "       Seg2Date Seg2Carrier Seg2BookingCode Seg3Departure Seg3Arrival  \\\n",
       "27          NaN         NaN             NaN           NaN         NaN   \n",
       "40   2013-06-30          OJ             NaN           NaN         NaN   \n",
       "59          NaN         NaN             NaN           NaN         NaN   \n",
       "134         NaN         NaN             NaN           NaN         NaN   \n",
       "172  2013-01-29         NaN             NaN           NaN         NaN   \n",
       "\n",
       "    Seg3Date Seg3Carrier Seg3BookingCode Seg4Departure Seg4Arrival Seg4Date  \\\n",
       "27       NaN         NaN             NaN           NaN         NaN      NaN   \n",
       "40       NaN         NaN             NaN           NaN         NaN      NaN   \n",
       "59       NaN         NaN             NaN           NaN         NaN      NaN   \n",
       "134      NaN         NaN             NaN           NaN         NaN      NaN   \n",
       "172      NaN         NaN             NaN           NaN         NaN      NaN   \n",
       "\n",
       "    Seg4Carrier Seg4BookingCode Seg5Departure Seg5Arrival Seg5Date  \\\n",
       "27          NaN             NaN           NaN         NaN      NaN   \n",
       "40          NaN             NaN           NaN         NaN      NaN   \n",
       "59          NaN             NaN           NaN         NaN      NaN   \n",
       "134         NaN             NaN           NaN         NaN      NaN   \n",
       "172         NaN             NaN           NaN         NaN      NaN   \n",
       "\n",
       "    Seg5Carrier Seg5BookingCode Seg6Departure Seg6Arrival Seg6Date  \\\n",
       "27          NaN             NaN           NaN         NaN      NaN   \n",
       "40          NaN             NaN           NaN         NaN      NaN   \n",
       "59          NaN             NaN           NaN         NaN      NaN   \n",
       "134         NaN             NaN           NaN         NaN      NaN   \n",
       "172         NaN             NaN           NaN         NaN      NaN   \n",
       "\n",
       "    Seg6Carrier Seg6BookingCode    From IsPublishedForNeg IsFromInternet  \\\n",
       "27          NaN             NaN  1ASIWS                 0              0   \n",
       "40          NaN             NaN  1ASIWS                 0              0   \n",
       "59          NaN             NaN    1ASI                 0              0   \n",
       "134         NaN             NaN  1ASIWS                 0              0   \n",
       "172         NaN             NaN    1ASI                 0              0   \n",
       "\n",
       "    IsFromVista                        TerminalID InternetOffice  booked  \n",
       "27            0  d41d8cd98f00b204e9800998ecf8427e            JED     1.0  \n",
       "40            0  d41d8cd98f00b204e9800998ecf8427e            JED     1.0  \n",
       "59            0  d41d8cd98f00b204e9800998ecf8427e            SEA     1.0  \n",
       "134           0  d41d8cd98f00b204e9800998ecf8427e            SYD     1.0  \n",
       "172           0  d41d8cd98f00b204e9800998ecf8427e            DEL     1.0  "
      ]
     },
     "execution_count": 102,
     "metadata": {},
     "output_type": "execute_result"
    }
   ],
   "source": [
    "# Check if the data is correct\n",
    "merged[merged['booked']>0 ].head()"
   ]
  },
  {
   "cell_type": "markdown",
   "metadata": {},
   "source": [
    "#### 5. Fill \"booked\" of merged table with 0"
   ]
  },
  {
   "cell_type": "code",
   "execution_count": 103,
   "metadata": {},
   "outputs": [],
   "source": [
    "merged['booked'] = merged['booked'].fillna(0)"
   ]
  },
  {
   "cell_type": "code",
   "execution_count": 104,
   "metadata": {},
   "outputs": [],
   "source": [
    "# Change the float type to integer\n",
    "merged = merged.astype({\"booked\":int})"
   ]
  },
  {
   "cell_type": "markdown",
   "metadata": {},
   "source": [
    "### 3. Adjust the code to work with Big data"
   ]
  },
  {
   "cell_type": "markdown",
   "metadata": {},
   "source": [
    "#### Final Solution"
   ]
  },
  {
   "cell_type": "code",
   "execution_count": 105,
   "metadata": {},
   "outputs": [
    {
     "name": "stdout",
     "output_type": "stream",
     "text": [
      "1000000 1000003\n",
      "2000000 1000003\n",
      "3000000 1000003\n",
      "4000000 1000003\n",
      "5000000 1000003\n",
      "6000000 1000003\n",
      "7000000 1000003\n",
      "8000000 1000003\n",
      "9000000 1000003\n",
      "10000000 1000003\n",
      "11000000 1000003\n",
      "1000000 358999\n",
      "2000000 359003\n",
      "3000000 359003\n",
      "4000000 359003\n",
      "5000000 359003\n",
      "6000000 359003\n",
      "7000000 359003\n",
      "8000000 359003\n",
      "9000000 359003\n",
      "10000000 359003\n",
      "11000000 359003\n",
      "12000000 359003\n",
      "13000000 359003\n",
      "14000000 359003\n",
      "15000000 359003\n",
      "16000000 359003\n",
      "17000000 359003\n",
      "18000000 359003\n",
      "19000000 359003\n",
      "20000000 359003\n",
      "21000000 359004\n",
      "CPU times: user 11min 56s, sys: 42.8 s, total: 12min 39s\n",
      "Wall time: 12min 21s\n"
     ]
    }
   ],
   "source": [
    "%%time\n",
    "\n",
    "# Reading the Booking file with chuncks and preparing the data without duplicates\n",
    "booking_df = pd.read_csv('./bookings.csv.bz2', sep=\"^\", chunksize=1000000, \n",
    "                         usecols=['cre_date           ','dep_port', 'arr_port'],\n",
    "                         low_memory=False, dtype=str)\n",
    "\n",
    "all_chunks_bookings = pd.DataFrame()\n",
    "for i, chunk in enumerate(booking_df):\n",
    "    all_chunks_bookings = all_chunks_bookings.append(chunk)\n",
    "    all_chunks_bookings.drop_duplicates(inplace=True)\n",
    "    print((i+1)*1000000, len(all_chunks_bookings))\n",
    "\n",
    "# Reading the Searches file with chuncks and preparing the data without duplicates    \n",
    "searches_df = pd.read_csv('./searches.csv.bz2', sep=\"^\", chunksize=1000000,\n",
    "                         low_memory=False, dtype=str)\n",
    "\n",
    "all_chunks_searches = pd.DataFrame()\n",
    "for i, chunk in enumerate(searches_df):\n",
    "    all_chunks_searches = all_chunks_searches.append(chunk)\n",
    "    all_chunks_searches.drop_duplicates(inplace=True)\n",
    "    print((i+1)*1000000, len(all_chunks_searches))\n",
    "    \n",
    "    \n",
    "# Taking out the whitespaces from the columns\n",
    "all_chunks_bookings.columns = all_chunks_bookings.columns.str.strip()\n",
    "all_chunks_bookings.dep_port = all_chunks_bookings.dep_port.str.strip()\n",
    "all_chunks_bookings.arr_port = all_chunks_bookings.arr_port.str.strip()\n",
    "all_chunks_bookings.cre_date = all_chunks_bookings.cre_date.str[0:10]\n",
    "all_chunks_bookings.drop_duplicates(inplace=True)\n",
    "# Creating a new column \"booked\" with value 1.\n",
    "all_chunks_bookings['booked'] = 1\n",
    "# Dropping duplicates\n",
    "all_chunks_bookings.drop_duplicates(inplace=True)\n",
    "\n",
    "# Merging files\n",
    "merged = all_chunks_searches.merge(all_chunks_bookings,\n",
    "           how='left',\n",
    "           left_on=['Date', 'Origin', 'Destination'],\n",
    "           right_on=['cre_date', 'dep_port', 'arr_port'])\n",
    "\n",
    "# Dropping the \"'cre_date', 'dep_port', 'arr_port'\" columns.\n",
    "merged.drop(['cre_date', 'dep_port', 'arr_port'], axis=1, inplace=True)\n",
    "\n",
    "# Replacing NaN with 0\n",
    "merged['booked'] = merged['booked'].fillna(0)\n",
    "\n",
    "# Changing the booked type vale to interger.\n",
    "merged = merged.astype({\"booked\":int})\n",
    "\n",
    "# Creating a CSV file. \n",
    "merged.to_csv(\"searches_with_book.csv\", sep='^', index=False)"
   ]
  },
  {
   "cell_type": "markdown",
   "metadata": {},
   "source": [
    "### 5. Write a Web Service\n",
    "\n",
    "Wrap the output of the second exercise in a web service that returns the data in JSON format (instead of printing to the standard output).\n",
    "The web service should accept a parameter n>0. For the top 10 airports, n is 10. For the X top airports, n is X \n"
   ]
  },
  {
   "cell_type": "code",
   "execution_count": 106,
   "metadata": {
    "scrolled": true
   },
   "outputs": [
    {
     "name": "stdout",
     "output_type": "stream",
     "text": [
      "Requirement already satisfied: flask in /Library/Python/3.7/site-packages (1.1.1)\n",
      "Requirement already satisfied: Werkzeug>=0.15 in /Library/Python/3.7/site-packages (from flask) (0.16.0)\n",
      "Requirement already satisfied: click>=5.1 in /Library/Python/3.7/site-packages (from flask) (7.0)\n",
      "Requirement already satisfied: Jinja2>=2.10.1 in /Library/Python/3.7/site-packages (from flask) (2.10.3)\n",
      "Requirement already satisfied: itsdangerous>=0.24 in /Library/Python/3.7/site-packages (from flask) (1.1.0)\n",
      "Requirement already satisfied: MarkupSafe>=0.23 in /Library/Python/3.7/site-packages (from Jinja2>=2.10.1->flask) (1.1.1)\n"
     ]
    }
   ],
   "source": [
    "!pip install flask"
   ]
  },
  {
   "cell_type": "code",
   "execution_count": 121,
   "metadata": {},
   "outputs": [],
   "source": [
    "from flask import Flask\n",
    "import json\n",
    "import pandas as pd"
   ]
  },
  {
   "cell_type": "code",
   "execution_count": 122,
   "metadata": {},
   "outputs": [],
   "source": [
    "# Read the generated file of the exercise number 2 \n",
    "top_airports = pd.read_csv('./top_airports.csv', sep=\"^\")"
   ]
  },
  {
   "cell_type": "code",
   "execution_count": 126,
   "metadata": {
    "scrolled": true
   },
   "outputs": [],
   "source": [
    "app = Flask(\"Web service\") # create an app instance\n",
    "\n",
    "@app.route('/get_top/<n>', methods=['GET']) # at the end point /get_top/<n>\n",
    "\n",
    "# Function\n",
    "def get_number(n):\n",
    "    try:\n",
    "        numb=int(n)\n",
    "        top_n=top_airports.head(numb)\n",
    "        return top_n.to_json()\n",
    "    except:\n",
    "        return \"This was not a number\"\n",
    "    \n"
   ]
  },
  {
   "cell_type": "code",
   "execution_count": 127,
   "metadata": {
    "scrolled": true
   },
   "outputs": [
    {
     "name": "stdout",
     "output_type": "stream",
     "text": [
      " * Serving Flask app \"Web service\" (lazy loading)\n",
      " * Environment: production\n",
      "   WARNING: This is a development server. Do not use it in a production deployment.\n",
      "   Use a production WSGI server instead.\n",
      " * Debug mode: off\n"
     ]
    },
    {
     "name": "stderr",
     "output_type": "stream",
     "text": [
      " * Running on http://127.0.0.1:5000/ (Press CTRL+C to quit)\n",
      "127.0.0.1 - - [30/Dec/2019 18:45:56] \"GET / HTTP/1.1\" 404 -\n",
      "127.0.0.1 - - [30/Dec/2019 18:46:05] \"GET /get_top/10 HTTP/1.1\" 200 -\n",
      "127.0.0.1 - - [30/Dec/2019 18:46:10] \"GET /get_top/100 HTTP/1.1\" 200 -\n",
      "127.0.0.1 - - [30/Dec/2019 18:47:09] \"GET /get_top/10 HTTP/1.1\" 200 -\n",
      "127.0.0.1 - - [30/Dec/2019 18:47:21] \"GET /get_top/100 HTTP/1.1\" 200 -\n",
      "127.0.0.1 - - [30/Dec/2019 18:47:32] \"GET /get_top/10 HTTP/1.1\" 200 -\n"
     ]
    }
   ],
   "source": [
    "app.run() # run the flask app"
   ]
  }
 ],
 "metadata": {
  "kernelspec": {
   "display_name": "Python 3",
   "language": "python",
   "name": "python3"
  },
  "language_info": {
   "codemirror_mode": {
    "name": "ipython",
    "version": 3
   },
   "file_extension": ".py",
   "mimetype": "text/x-python",
   "name": "python",
   "nbconvert_exporter": "python",
   "pygments_lexer": "ipython3",
   "version": "3.7.4"
  }
 },
 "nbformat": 4,
 "nbformat_minor": 2
}
